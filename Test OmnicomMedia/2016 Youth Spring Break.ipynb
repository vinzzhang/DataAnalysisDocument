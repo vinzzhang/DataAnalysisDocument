{
 "cells": [
  {
   "cell_type": "markdown",
   "metadata": {},
   "source": [
    "# 2016 Youth Spring Break \n",
    "\n",
    "+ Load data\n",
    "+ Insight & visualization"
   ]
  },
  {
   "cell_type": "code",
   "execution_count": 1,
   "metadata": {},
   "outputs": [],
   "source": [
    "import pandas as pd\n",
    "import numpy as np\n",
    "import matplotlib.pyplot as plt\n",
    "import seaborn as sns\n",
    "from scipy.stats.stats import pearsonr\n",
    "%matplotlib inline"
   ]
  },
  {
   "cell_type": "markdown",
   "metadata": {},
   "source": [
    "# Load data \n",
    "load data from Data.csv from row 11 to row 5503"
   ]
  },
  {
   "cell_type": "code",
   "execution_count": 2,
   "metadata": {},
   "outputs": [
    {
     "name": "stdout",
     "output_type": "stream",
     "text": [
      "<class 'pandas.core.frame.DataFrame'>\n",
      "RangeIndex: 5492 entries, 0 to 5491\n",
      "Data columns (total 15 columns):\n",
      "Campaign                               5492 non-null object\n",
      "Site (DCM)                             5492 non-null object\n",
      "Placement                              5492 non-null object\n",
      "Date                                   5492 non-null object\n",
      "Creative                               5492 non-null object\n",
      "Creative Pixel Size                    5492 non-null object\n",
      "State/Region                           5492 non-null object\n",
      "Impressions                            5492 non-null int64\n",
      "Clicks                                 5492 non-null int64\n",
      "Active View: Viewable Impressions      5492 non-null int64\n",
      "Active View: Measurable Impressions    5492 non-null int64\n",
      "Total Conversions                      5492 non-null int64\n",
      "Media Cost                             5492 non-null float64\n",
      "Planned Media Cost                     5492 non-null float64\n",
      "Total Revenue                          5492 non-null float64\n",
      "dtypes: float64(3), int64(5), object(7)\n",
      "memory usage: 643.7+ KB\n"
     ]
    }
   ],
   "source": [
    "data = pd.read_csv('Data.csv', skiprows=10, skipfooter=1, engine='python') # ingore the first 10 and last 1 rows\n",
    "data.info()"
   ]
  },
  {
   "cell_type": "code",
   "execution_count": 3,
   "metadata": {},
   "outputs": [
    {
     "data": {
      "text/html": [
       "<div>\n",
       "<style scoped>\n",
       "    .dataframe tbody tr th:only-of-type {\n",
       "        vertical-align: middle;\n",
       "    }\n",
       "\n",
       "    .dataframe tbody tr th {\n",
       "        vertical-align: top;\n",
       "    }\n",
       "\n",
       "    .dataframe thead th {\n",
       "        text-align: right;\n",
       "    }\n",
       "</style>\n",
       "<table border=\"1\" class=\"dataframe\">\n",
       "  <thead>\n",
       "    <tr style=\"text-align: right;\">\n",
       "      <th></th>\n",
       "      <th>Impressions</th>\n",
       "      <th>Clicks</th>\n",
       "      <th>Active View: Viewable Impressions</th>\n",
       "      <th>Active View: Measurable Impressions</th>\n",
       "      <th>Total Conversions</th>\n",
       "      <th>Media Cost</th>\n",
       "      <th>Planned Media Cost</th>\n",
       "      <th>Total Revenue</th>\n",
       "    </tr>\n",
       "  </thead>\n",
       "  <tbody>\n",
       "    <tr>\n",
       "      <th>count</th>\n",
       "      <td>5492.000000</td>\n",
       "      <td>5492.000000</td>\n",
       "      <td>5492.000000</td>\n",
       "      <td>5492.000000</td>\n",
       "      <td>5492.000000</td>\n",
       "      <td>5492.000000</td>\n",
       "      <td>5492.000000</td>\n",
       "      <td>5492.000000</td>\n",
       "    </tr>\n",
       "    <tr>\n",
       "      <th>mean</th>\n",
       "      <td>1412.802804</td>\n",
       "      <td>12.213948</td>\n",
       "      <td>331.360524</td>\n",
       "      <td>774.705208</td>\n",
       "      <td>14.897669</td>\n",
       "      <td>3.401794</td>\n",
       "      <td>7.381368</td>\n",
       "      <td>95.431457</td>\n",
       "    </tr>\n",
       "    <tr>\n",
       "      <th>std</th>\n",
       "      <td>14030.772793</td>\n",
       "      <td>200.688109</td>\n",
       "      <td>3863.997541</td>\n",
       "      <td>9087.926055</td>\n",
       "      <td>57.698212</td>\n",
       "      <td>46.933003</td>\n",
       "      <td>20.241826</td>\n",
       "      <td>445.518282</td>\n",
       "    </tr>\n",
       "    <tr>\n",
       "      <th>min</th>\n",
       "      <td>0.000000</td>\n",
       "      <td>0.000000</td>\n",
       "      <td>0.000000</td>\n",
       "      <td>-8.000000</td>\n",
       "      <td>0.000000</td>\n",
       "      <td>0.000000</td>\n",
       "      <td>0.000000</td>\n",
       "      <td>0.000000</td>\n",
       "    </tr>\n",
       "    <tr>\n",
       "      <th>25%</th>\n",
       "      <td>0.000000</td>\n",
       "      <td>0.000000</td>\n",
       "      <td>0.000000</td>\n",
       "      <td>0.000000</td>\n",
       "      <td>0.000000</td>\n",
       "      <td>0.000000</td>\n",
       "      <td>0.000000</td>\n",
       "      <td>0.000000</td>\n",
       "    </tr>\n",
       "    <tr>\n",
       "      <th>50%</th>\n",
       "      <td>0.000000</td>\n",
       "      <td>0.000000</td>\n",
       "      <td>0.000000</td>\n",
       "      <td>0.000000</td>\n",
       "      <td>0.000000</td>\n",
       "      <td>0.000000</td>\n",
       "      <td>0.000000</td>\n",
       "      <td>0.000000</td>\n",
       "    </tr>\n",
       "    <tr>\n",
       "      <th>75%</th>\n",
       "      <td>1.000000</td>\n",
       "      <td>0.000000</td>\n",
       "      <td>0.000000</td>\n",
       "      <td>0.000000</td>\n",
       "      <td>4.000000</td>\n",
       "      <td>0.000000</td>\n",
       "      <td>2.531648</td>\n",
       "      <td>0.000000</td>\n",
       "    </tr>\n",
       "    <tr>\n",
       "      <th>max</th>\n",
       "      <td>323977.000000</td>\n",
       "      <td>8547.000000</td>\n",
       "      <td>94251.000000</td>\n",
       "      <td>215947.000000</td>\n",
       "      <td>922.000000</td>\n",
       "      <td>1945.000000</td>\n",
       "      <td>105.517241</td>\n",
       "      <td>6706.769999</td>\n",
       "    </tr>\n",
       "  </tbody>\n",
       "</table>\n",
       "</div>"
      ],
      "text/plain": [
       "         Impressions       Clicks  Active View: Viewable Impressions  \\\n",
       "count    5492.000000  5492.000000                        5492.000000   \n",
       "mean     1412.802804    12.213948                         331.360524   \n",
       "std     14030.772793   200.688109                        3863.997541   \n",
       "min         0.000000     0.000000                           0.000000   \n",
       "25%         0.000000     0.000000                           0.000000   \n",
       "50%         0.000000     0.000000                           0.000000   \n",
       "75%         1.000000     0.000000                           0.000000   \n",
       "max    323977.000000  8547.000000                       94251.000000   \n",
       "\n",
       "       Active View: Measurable Impressions  Total Conversions   Media Cost  \\\n",
       "count                          5492.000000        5492.000000  5492.000000   \n",
       "mean                            774.705208          14.897669     3.401794   \n",
       "std                            9087.926055          57.698212    46.933003   \n",
       "min                              -8.000000           0.000000     0.000000   \n",
       "25%                               0.000000           0.000000     0.000000   \n",
       "50%                               0.000000           0.000000     0.000000   \n",
       "75%                               0.000000           4.000000     0.000000   \n",
       "max                          215947.000000         922.000000  1945.000000   \n",
       "\n",
       "       Planned Media Cost  Total Revenue  \n",
       "count         5492.000000    5492.000000  \n",
       "mean             7.381368      95.431457  \n",
       "std             20.241826     445.518282  \n",
       "min              0.000000       0.000000  \n",
       "25%              0.000000       0.000000  \n",
       "50%              0.000000       0.000000  \n",
       "75%              2.531648       0.000000  \n",
       "max            105.517241    6706.769999  "
      ]
     },
     "execution_count": 3,
     "metadata": {},
     "output_type": "execute_result"
    }
   ],
   "source": [
    "data.describe()"
   ]
  },
  {
   "cell_type": "markdown",
   "metadata": {},
   "source": [
    "#  Insight & visualization\n"
   ]
  },
  {
   "cell_type": "markdown",
   "metadata": {},
   "source": [
    "## What has performed best in this campaign? Why?\n",
    "\n",
    "**Facebook** performs best in this campaign because the larget \"profit\" occurs via Facebook. (ROI is not enough, we should also ensure a large scale so that the total(profit) can determine which site is best.\n",
    "\n",
    "I also explored the \"total conversions\" to check how \"total conversions\" performed, but I realized that \"total conversions\" is the number of conversions. A series of spercific \"conversion rates\"(conversion rate of pay, etc) will be better to explain how it matters to the campaign, and optimize the conversion rate of the last step is much better than starting from the beginning."
   ]
  },
  {
   "cell_type": "code",
   "execution_count": 36,
   "metadata": {},
   "outputs": [
    {
     "data": {
      "text/html": [
       "<div>\n",
       "<style scoped>\n",
       "    .dataframe tbody tr th:only-of-type {\n",
       "        vertical-align: middle;\n",
       "    }\n",
       "\n",
       "    .dataframe tbody tr th {\n",
       "        vertical-align: top;\n",
       "    }\n",
       "\n",
       "    .dataframe thead th {\n",
       "        text-align: right;\n",
       "    }\n",
       "</style>\n",
       "<table border=\"1\" class=\"dataframe\">\n",
       "  <thead>\n",
       "    <tr style=\"text-align: right;\">\n",
       "      <th></th>\n",
       "      <th>Impressions</th>\n",
       "      <th>Active View: Measurable Impressions</th>\n",
       "      <th>Active View: Viewable Impressions</th>\n",
       "      <th>Clicks</th>\n",
       "      <th>Total Conversions</th>\n",
       "      <th>Media Cost</th>\n",
       "      <th>Planned Media Cost</th>\n",
       "      <th>Total Revenue</th>\n",
       "      <th>Profit</th>\n",
       "      <th>ROI</th>\n",
       "      <th>CTR</th>\n",
       "    </tr>\n",
       "    <tr>\n",
       "      <th>Site (DCM)</th>\n",
       "      <th></th>\n",
       "      <th></th>\n",
       "      <th></th>\n",
       "      <th></th>\n",
       "      <th></th>\n",
       "      <th></th>\n",
       "      <th></th>\n",
       "      <th></th>\n",
       "      <th></th>\n",
       "      <th></th>\n",
       "      <th></th>\n",
       "    </tr>\n",
       "  </thead>\n",
       "  <tbody>\n",
       "    <tr>\n",
       "      <th>Accuen</th>\n",
       "      <td>162</td>\n",
       "      <td>130</td>\n",
       "      <td>542</td>\n",
       "      <td>1</td>\n",
       "      <td>25</td>\n",
       "      <td>0.036000</td>\n",
       "      <td>5189.869831</td>\n",
       "      <td>258.770000</td>\n",
       "      <td>258.734000</td>\n",
       "      <td>7187.055556</td>\n",
       "      <td>0.001845</td>\n",
       "    </tr>\n",
       "    <tr>\n",
       "      <th>Facebook</th>\n",
       "      <td>1034662</td>\n",
       "      <td>0</td>\n",
       "      <td>0</td>\n",
       "      <td>47246</td>\n",
       "      <td>39478</td>\n",
       "      <td>5733.499964</td>\n",
       "      <td>10815.517182</td>\n",
       "      <td>287809.349973</td>\n",
       "      <td>282075.850009</td>\n",
       "      <td>49.197846</td>\n",
       "      <td>inf</td>\n",
       "    </tr>\n",
       "    <tr>\n",
       "      <th>Google</th>\n",
       "      <td>6500470</td>\n",
       "      <td>4036266</td>\n",
       "      <td>1732948</td>\n",
       "      <td>18923</td>\n",
       "      <td>34865</td>\n",
       "      <td>9999.999973</td>\n",
       "      <td>9999.999849</td>\n",
       "      <td>195175.189985</td>\n",
       "      <td>185175.190012</td>\n",
       "      <td>18.517519</td>\n",
       "      <td>0.010920</td>\n",
       "    </tr>\n",
       "    <tr>\n",
       "      <th>Out of the Box Media (OBOX)</th>\n",
       "      <td>223819</td>\n",
       "      <td>218285</td>\n",
       "      <td>86342</td>\n",
       "      <td>321</td>\n",
       "      <td>5527</td>\n",
       "      <td>2655.614983</td>\n",
       "      <td>7464.118388</td>\n",
       "      <td>32307.770000</td>\n",
       "      <td>29652.155017</td>\n",
       "      <td>11.165834</td>\n",
       "      <td>0.003718</td>\n",
       "    </tr>\n",
       "    <tr>\n",
       "      <th>Twitter</th>\n",
       "      <td>0</td>\n",
       "      <td>0</td>\n",
       "      <td>0</td>\n",
       "      <td>588</td>\n",
       "      <td>1923</td>\n",
       "      <td>293.500000</td>\n",
       "      <td>7068.965472</td>\n",
       "      <td>8558.479999</td>\n",
       "      <td>8264.979999</td>\n",
       "      <td>28.160068</td>\n",
       "      <td>inf</td>\n",
       "    </tr>\n",
       "  </tbody>\n",
       "</table>\n",
       "</div>"
      ],
      "text/plain": [
       "                             Impressions  Active View: Measurable Impressions  \\\n",
       "Site (DCM)                                                                      \n",
       "Accuen                               162                                  130   \n",
       "Facebook                         1034662                                    0   \n",
       "Google                           6500470                              4036266   \n",
       "Out of the Box Media (OBOX)       223819                               218285   \n",
       "Twitter                                0                                    0   \n",
       "\n",
       "                             Active View: Viewable Impressions  Clicks  \\\n",
       "Site (DCM)                                                               \n",
       "Accuen                                                     542       1   \n",
       "Facebook                                                     0   47246   \n",
       "Google                                                 1732948   18923   \n",
       "Out of the Box Media (OBOX)                              86342     321   \n",
       "Twitter                                                      0     588   \n",
       "\n",
       "                             Total Conversions   Media Cost  \\\n",
       "Site (DCM)                                                    \n",
       "Accuen                                      25     0.036000   \n",
       "Facebook                                 39478  5733.499964   \n",
       "Google                                   34865  9999.999973   \n",
       "Out of the Box Media (OBOX)               5527  2655.614983   \n",
       "Twitter                                   1923   293.500000   \n",
       "\n",
       "                             Planned Media Cost  Total Revenue         Profit  \\\n",
       "Site (DCM)                                                                      \n",
       "Accuen                              5189.869831     258.770000     258.734000   \n",
       "Facebook                           10815.517182  287809.349973  282075.850009   \n",
       "Google                              9999.999849  195175.189985  185175.190012   \n",
       "Out of the Box Media (OBOX)         7464.118388   32307.770000   29652.155017   \n",
       "Twitter                             7068.965472    8558.479999    8264.979999   \n",
       "\n",
       "                                     ROI       CTR  \n",
       "Site (DCM)                                          \n",
       "Accuen                       7187.055556  0.001845  \n",
       "Facebook                       49.197846       inf  \n",
       "Google                         18.517519  0.010920  \n",
       "Out of the Box Media (OBOX)    11.165834  0.003718  \n",
       "Twitter                        28.160068       inf  "
      ]
     },
     "execution_count": 36,
     "metadata": {},
     "output_type": "execute_result"
    }
   ],
   "source": [
    "site_group = data.groupby('Site (DCM)')['Impressions','Active View: Measurable Impressions', 'Active View: Viewable Impressions', \n",
    "                                       'Clicks','Total Conversions', 'Media Cost', 'Planned Media Cost', 'Total Revenue'].agg('sum')\n",
    "site_group['Profit'] = (site_group['Total Revenue'] - site_group['Media Cost'])\n",
    "site_group['ROI'] = site_group['Profit'] / site_group['Media Cost']\n",
    "site_group['CTR']= site_group['Clicks'] / site_group['Active View: Viewable Impressions']\n",
    "\n",
    "site_group"
   ]
  },
  {
   "cell_type": "code",
   "execution_count": 37,
   "metadata": {},
   "outputs": [
    {
     "data": {
      "text/plain": [
       "Text(0.5,1,'Conversions of Each Sites (DCM)')"
      ]
     },
     "execution_count": 37,
     "metadata": {},
     "output_type": "execute_result"
    },
    {
     "data": {
      "image/png": "[encoded data removed]",
      "text/plain": [
       "<Figure size 1152x432 with 2 Axes>"
      ]
     },
     "metadata": {},
     "output_type": "display_data"
    }
   ],
   "source": [
    "fig = plt.figure(figsize =(16, 6))\n",
    "\n",
    "plt.subplot(121)\n",
    "plt.bar(site_group.index, site_group['Profit'], color='skyblue')\n",
    "plt.xticks(rotation = 45)\n",
    "plt.title('Profits of Each Sites (DCM)')\n",
    "\n",
    "plt.subplot(122)\n",
    "plt.bar(site_group.index, site_group['Total Conversions'], color='skyblue')\n",
    "plt.xticks(rotation = 45)\n",
    "plt.title('Conversions of Each Sites (DCM)')"
   ]
  },
  {
   "cell_type": "code",
   "execution_count": 38,
   "metadata": {},
   "outputs": [
    {
     "data": {
      "text/plain": [
       "Text(0.5,1,'Number of Site (DCM)')"
      ]
     },
     "execution_count": 38,
     "metadata": {},
     "output_type": "execute_result"
    },
    {
     "data": {
      "image/png": "[encoded data removed]",
      "text/plain": [
       "<Figure size 576x432 with 1 Axes>"
      ]
     },
     "metadata": {},
     "output_type": "display_data"
    }
   ],
   "source": [
    "cols = data['Site (DCM)'].value_counts().index\n",
    "fig, ax = plt.subplots(figsize=(8,6))\n",
    "plt.bar(cols, data['Site (DCM)'].value_counts(), color='skyblue')\n",
    "plt.xticks(rotation = 45)\n",
    "plt.title('Number of Site (DCM)')"
   ]
  },
  {
   "cell_type": "markdown",
   "metadata": {},
   "source": [
    "## What are your recommendations for improving the next campaign?\n",
    "\n",
    "I calculated the \"ROI\" & \"CTR\" of each sites and found the Accuen has largest \"ROI\", but a lower \"CTR\", while Facebook has a larger \"CTR\", but a lower \"ROI\". A high ROI mean there will be more profits when we pay same amount of money(cost) as investment, and a high CTR means that people has high interest in corresponding creative. I recommend that:\n",
    "\n",
    "+ For Accuen: high ROI, low CTR. There exists potential growth, so that we should make Active View more attractive to increase CTR.\n",
    "+ For Google: low ROI, high CTR, Increase conversion rates to boost ROI\n",
    "+ For OBOX: low ROI, low CTR. Increase conversion rates and make Active View more attractive.\n"
   ]
  },
  {
   "cell_type": "code",
   "execution_count": 39,
   "metadata": {
    "scrolled": false
   },
   "outputs": [
    {
     "data": {
      "text/plain": [
       "Text(0,0.5,'CTR')"
      ]
     },
     "execution_count": 39,
     "metadata": {},
     "output_type": "execute_result"
    },
    {
     "data": {
      "image/png": "[encoded data removed]",
      "text/plain": [
       "<Figure size 576x432 with 1 Axes>"
      ]
     },
     "metadata": {},
     "output_type": "display_data"
    }
   ],
   "source": [
    "fig = plt.figure(figsize =(8, 6))\n",
    "plt.scatter(site_group['ROI'], site_group['CTR'], color='skyblue')\n",
    "plt.title('ROI & CTR of Each Sites (DCM)')\n",
    "plt.xlabel('ROI')\n",
    "plt.ylabel('CTR')"
   ]
  },
  {
   "cell_type": "markdown",
   "metadata": {},
   "source": [
    "## Can you summarize the performance of this campaign on 1 page, promoting popularization using graphs.\n",
    "\n",
    "+ Profit by State/Site\n",
    "+ Profit Trend by Date\n",
    "+ RoI & CTR by Site\n",
    "+ RoI & CTR by Site\n",
    "\n",
    "Details in the **summary.pdf** file"
   ]
  },
  {
   "cell_type": "markdown",
   "metadata": {},
   "source": [
    "## Please update the most relevant performance indicators in your analysis"
   ]
  },
  {
   "cell_type": "code",
   "execution_count": 42,
   "metadata": {},
   "outputs": [
    {
     "data": {
      "text/plain": [
       "State/Region\n",
       "NF           274.405782\n",
       "MA           233.199949\n",
       "PE           226.471458\n",
       "BC           155.306826\n",
       "NB           141.625814\n",
       "CA            97.854769\n",
       "VT            60.282645\n",
       "ON            39.375765\n",
       "(not set)     12.060018\n",
       "AB            10.955376\n",
       "QC             9.624873\n",
       "FL             9.343069\n",
       "NY             4.432068\n",
       "MI             4.291239\n",
       "IN            -1.000000\n",
       "LA            -1.000000\n",
       "KS            -1.000000\n",
       "AZ            -1.000000\n",
       "CT            -1.000000\n",
       "CO            -1.000000\n",
       "DC            -1.000000\n",
       "HI            -1.000000\n",
       "GA            -1.000000\n",
       "MB            -1.000000\n",
       "DE            -1.000000\n",
       "IL            -1.000000\n",
       "WA            -1.000000\n",
       "MD            -1.000000\n",
       "OR            -1.000000\n",
       "VA            -1.000000\n",
       "                ...    \n",
       "SK            -1.000000\n",
       "RI            -1.000000\n",
       "PA            -1.000000\n",
       "OH            -1.000000\n",
       "ME            -1.000000\n",
       "NV            -1.000000\n",
       "NS            -1.000000\n",
       "NJ            -1.000000\n",
       "NH            -1.000000\n",
       "NC            -1.000000\n",
       "MO            -1.000000\n",
       "MN            -1.000000\n",
       "AK                  NaN\n",
       "AL                  NaN\n",
       "IA                  NaN\n",
       "ID                  NaN\n",
       "KY                  NaN\n",
       "MS                  NaN\n",
       "MT                  NaN\n",
       "ND                  NaN\n",
       "NE                  NaN\n",
       "NM                  NaN\n",
       "NT                  NaN\n",
       "OK                  NaN\n",
       "SC                  NaN\n",
       "UT                  NaN\n",
       "WI                  NaN\n",
       "WV                  NaN\n",
       "WY                  NaN\n",
       "YT                  NaN\n",
       "Name: ROI, Length: 62, dtype: float64"
      ]
     },
     "execution_count": 42,
     "metadata": {},
     "output_type": "execute_result"
    }
   ],
   "source": [
    "state_group['ROI'] = state_group['Profit'] / state_group['Media Cost']\n",
    "state_group['CTR']= state_group['Clicks'] / state_group['Active View: Viewable Impressions']\n",
    "\n",
    "state_group['ROI'].sort_values(ascending = False)"
   ]
  },
  {
   "cell_type": "code",
   "execution_count": 44,
   "metadata": {},
   "outputs": [
    {
     "data": {
      "text/plain": [
       "State/Region\n",
       "ON           426285.765173\n",
       "QC            71163.420015\n",
       "(not set)      4073.196212\n",
       "BC             1409.653429\n",
       "CA              885.906719\n",
       "MA              714.486165\n",
       "NB              289.495910\n",
       "MI              240.107131\n",
       "VT              111.972541\n",
       "NF               92.323551\n",
       "FL               56.141145\n",
       "NY               54.412908\n",
       "PE               36.777606\n",
       "AB               35.307182\n",
       "KY                0.000000\n",
       "ND                0.000000\n",
       "WY                0.000000\n",
       "MT                0.000000\n",
       "MS                0.000000\n",
       "UT                0.000000\n",
       "ID                0.000000\n",
       "IA                0.000000\n",
       "WI                0.000000\n",
       "WV                0.000000\n",
       "AL                0.000000\n",
       "AK                0.000000\n",
       "NE                0.000000\n",
       "YT                0.000000\n",
       "NM                0.000000\n",
       "NT                0.000000\n",
       "                 ...      \n",
       "ME               -0.162394\n",
       "RI               -0.164656\n",
       "LA               -0.164656\n",
       "TN               -0.164656\n",
       "GA               -0.164656\n",
       "NV               -0.164656\n",
       "KS               -0.164656\n",
       "PA               -0.174055\n",
       "MO               -0.174055\n",
       "AZ               -0.174055\n",
       "HI               -0.336449\n",
       "DC               -0.348110\n",
       "IN               -0.500000\n",
       "OR               -0.500000\n",
       "SK               -0.500000\n",
       "MN               -0.503368\n",
       "OH               -0.665762\n",
       "MD               -0.674055\n",
       "DE               -0.674055\n",
       "CO               -0.686821\n",
       "NH               -0.696220\n",
       "TX               -0.732421\n",
       "WA               -0.993970\n",
       "NJ               -1.196220\n",
       "MB               -1.407475\n",
       "NS               -1.522444\n",
       "CT               -1.544331\n",
       "VA               -1.696220\n",
       "NC               -2.015939\n",
       "IL               -3.190295\n",
       "Name: Profit, Length: 62, dtype: float64"
      ]
     },
     "execution_count": 44,
     "metadata": {},
     "output_type": "execute_result"
    }
   ],
   "source": [
    "state_group['Profit'].sort_values(ascending = False)"
   ]
  },
  {
   "cell_type": "code",
   "execution_count": 45,
   "metadata": {},
   "outputs": [
    {
     "data": {
      "text/plain": [
       "Site (DCM)\n",
       "Twitter                             inf\n",
       "Facebook                            inf\n",
       "Google                         0.010920\n",
       "Out of the Box Media (OBOX)    0.003718\n",
       "Accuen                         0.001845\n",
       "Name: CTR, dtype: float64"
      ]
     },
     "execution_count": 45,
     "metadata": {},
     "output_type": "execute_result"
    }
   ],
   "source": [
    "site_group['CTR'].sort_values(ascending = False)"
   ]
  },
  {
   "cell_type": "code",
   "execution_count": 46,
   "metadata": {},
   "outputs": [
    {
     "data": {
      "text/plain": [
       "Site (DCM)\n",
       "Facebook                       282075.850009\n",
       "Google                         185175.190012\n",
       "Out of the Box Media (OBOX)     29652.155017\n",
       "Twitter                          8264.979999\n",
       "Accuen                            258.734000\n",
       "Name: Profit, dtype: float64"
      ]
     },
     "execution_count": 46,
     "metadata": {},
     "output_type": "execute_result"
    }
   ],
   "source": [
    "site_group['Profit'].sort_values(ascending = False)"
   ]
  },
  {
   "cell_type": "code",
   "execution_count": 47,
   "metadata": {},
   "outputs": [
    {
     "data": {
      "text/plain": [
       "Site (DCM)\n",
       "Accuen                         7187.055556\n",
       "Facebook                         49.197846\n",
       "Twitter                          28.160068\n",
       "Google                           18.517519\n",
       "Out of the Box Media (OBOX)      11.165834\n",
       "Name: ROI, dtype: float64"
      ]
     },
     "execution_count": 47,
     "metadata": {},
     "output_type": "execute_result"
    }
   ],
   "source": [
    "site_group['ROI'].sort_values(ascending = False)"
   ]
  },
  {
   "cell_type": "code",
   "execution_count": null,
   "metadata": {},
   "outputs": [],
   "source": []
  },
  {
   "cell_type": "code",
   "execution_count": null,
   "metadata": {},
   "outputs": [],
   "source": []
  }
 ],
 "metadata": {
  "kernelspec": {
   "display_name": "Python 3",
   "language": "python",
   "name": "python3"
  },
  "language_info": {
   "codemirror_mode": {
    "name": "ipython",
    "version": 3
   },
   "file_extension": ".py",
   "mimetype": "text/x-python",
   "name": "python",
   "nbconvert_exporter": "python",
   "pygments_lexer": "ipython3",
   "version": "3.6.5"
  }
 },
 "nbformat": 4,
 "nbformat_minor": 2
}
