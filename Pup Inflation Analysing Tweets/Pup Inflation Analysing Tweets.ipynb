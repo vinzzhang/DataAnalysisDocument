{
 "cells": [
  {
   "cell_type": "markdown",
   "metadata": {
    "_uuid": "6f5e43cb57d3597dad96fb5a85891d94bd8e24d9"
   },
   "source": [
    "This question is heavily inspired by David H. Montgomery's Pup Inflation post. His analysis is an excellent data science task, and the same question is here: has there been grade inflation on the @dog_rates Twitter, which rates the cuteness of users' dog pictures?"
   ]
  },
  {
   "cell_type": "code",
   "execution_count": 1,
   "metadata": {
    "_cell_guid": "d49369b8-f5d7-4cf2-bf3f-f98da55a661c",
    "_uuid": "b94066e198039a000360d915fd3539b3af012d33"
   },
   "outputs": [],
   "source": [
    "import numpy as np\n",
    "import pandas as pd\n",
    "import matplotlib.pyplot as plt\n",
    "from scipy import stats\n",
    "import statsmodels.api as sm\n",
    "import seaborn as sns"
   ]
  },
  {
   "cell_type": "code",
   "execution_count": 2,
   "metadata": {
    "_cell_guid": "f9f1b625-392b-495f-b35d-21fe6ee1446f",
    "_uuid": "fad27aadcdfa351d5fc1c65320a82a80f61b66b8"
   },
   "outputs": [
    {
     "data": {
      "text/html": [
       "<div>\n",
       "<style scoped>\n",
       "    .dataframe tbody tr th:only-of-type {\n",
       "        vertical-align: middle;\n",
       "    }\n",
       "\n",
       "    .dataframe tbody tr th {\n",
       "        vertical-align: top;\n",
       "    }\n",
       "\n",
       "    .dataframe thead th {\n",
       "        text-align: right;\n",
       "    }\n",
       "</style>\n",
       "<table border=\"1\" class=\"dataframe\">\n",
       "  <thead>\n",
       "    <tr style=\"text-align: right;\">\n",
       "      <th></th>\n",
       "      <th>id</th>\n",
       "      <th>created_at</th>\n",
       "      <th>text</th>\n",
       "    </tr>\n",
       "  </thead>\n",
       "  <tbody>\n",
       "    <tr>\n",
       "      <th>0</th>\n",
       "      <td>862722525377298433</td>\n",
       "      <td>2017-05-11 17:34:13</td>\n",
       "      <td>b\"This is Dave. He passed the h*ck out. It's b...</td>\n",
       "    </tr>\n",
       "    <tr>\n",
       "      <th>1</th>\n",
       "      <td>862698176012320769</td>\n",
       "      <td>2017-05-11 15:57:27</td>\n",
       "      <td>b\"@starstrickenSF @wf_atx @kalesalad Wow I'm u...</td>\n",
       "    </tr>\n",
       "    <tr>\n",
       "      <th>2</th>\n",
       "      <td>862517696700854274</td>\n",
       "      <td>2017-05-11 04:00:18</td>\n",
       "      <td>b'RT @LittleSkyz: Hey everyone Radar needs you...</td>\n",
       "    </tr>\n",
       "    <tr>\n",
       "      <th>3</th>\n",
       "      <td>862457590147678208</td>\n",
       "      <td>2017-05-11 00:01:27</td>\n",
       "      <td>b'This is Jersey. He likes to watch movies, bu...</td>\n",
       "    </tr>\n",
       "    <tr>\n",
       "      <th>4</th>\n",
       "      <td>862418272276361220</td>\n",
       "      <td>2017-05-10 21:25:13</td>\n",
       "      <td>b'RT @zboah: Ok did it work this time https://...</td>\n",
       "    </tr>\n",
       "  </tbody>\n",
       "</table>\n",
       "</div>"
      ],
      "text/plain": [
       "                   id           created_at  \\\n",
       "0  862722525377298433  2017-05-11 17:34:13   \n",
       "1  862698176012320769  2017-05-11 15:57:27   \n",
       "2  862517696700854274  2017-05-11 04:00:18   \n",
       "3  862457590147678208  2017-05-11 00:01:27   \n",
       "4  862418272276361220  2017-05-10 21:25:13   \n",
       "\n",
       "                                                text  \n",
       "0  b\"This is Dave. He passed the h*ck out. It's b...  \n",
       "1  b\"@starstrickenSF @wf_atx @kalesalad Wow I'm u...  \n",
       "2  b'RT @LittleSkyz: Hey everyone Radar needs you...  \n",
       "3  b'This is Jersey. He likes to watch movies, bu...  \n",
       "4  b'RT @zboah: Ok did it work this time https://...  "
      ]
     },
     "execution_count": 2,
     "metadata": {},
     "output_type": "execute_result"
    }
   ],
   "source": [
    "rate = pd.read_csv('dog_rates_tweets.csv')\n",
    "rate.head()"
   ]
  },
  {
   "cell_type": "code",
   "execution_count": 3,
   "metadata": {
    "_cell_guid": "26829fcb-7dfb-4e34-85c2-15304bf8ee9b",
    "_uuid": "39f3a65974fc14d2470649d780ef0d75bf740a6c",
    "scrolled": true
   },
   "outputs": [],
   "source": [
    "#Find tweets that contain an “n/10” rating (because not all do). Extract the numeric rating. Exclude tweets that don't contain a rating.\n",
    "new = rate['text'].str.extract('(\\d+(\\.\\d+)?)/10',expand=True)\n",
    "rate['rating'] = new[0].astype(float)\n",
    "rate = rate[rate['rating'].notnull()]"
   ]
  },
  {
   "cell_type": "code",
   "execution_count": 4,
   "metadata": {
    "_cell_guid": "bb66aa3b-29d5-4521-a0b6-89594f978606",
    "_uuid": "b92866c6509d7819e9a988c434c92e04db4f8943",
    "scrolled": false
   },
   "outputs": [],
   "source": [
    "#Remove outliers: there are a few obvious ones. Exclude rating values that are too large to make sense. (Maybe larger than 25/10?)\n",
    "rate = rate.query(\"rating < 20\")"
   ]
  },
  {
   "cell_type": "code",
   "execution_count": 5,
   "metadata": {
    "_cell_guid": "60e3151a-ba19-4a9d-8f3c-398867924f29",
    "_uuid": "f89642e2d3b7c30d2d7fda8abac15cd320c53453"
   },
   "outputs": [],
   "source": [
    "#Make sure the 'created_at' column is a datetime value, not a string. \n",
    "rate['created_at'] = pd.to_datetime(rate['created_at'])"
   ]
  },
  {
   "cell_type": "code",
   "execution_count": 6,
   "metadata": {
    "_cell_guid": "02253055-50ac-45b9-9795-d6cfdddf63c2",
    "_uuid": "4593ace0188da119eb5498ca8d90b0de4d751dc6"
   },
   "outputs": [
    {
     "data": {
      "image/png": "[encoded data removed]",
      "text/plain": [
       "<Figure size 432x288 with 1 Axes>"
      ]
     },
     "metadata": {},
     "output_type": "display_data"
    }
   ],
   "source": [
    "#Create a scatter plot of date vs rating\n",
    "sns.set(style = 'whitegrid',color_codes=True,font_scale=1.3, rc={\"lines.linewidth\": 2.5})\n",
    "plt.xticks(rotation=25)\n",
    "plt.scatter(rate['created_at'].values, rate['rating'].values, c='b',alpha=0.5, s=5)\n",
    "rate['timestamp'] = rate['created_at'].apply(lambda x:x.timestamp())\n",
    "fit = slope , intercept, r_value, p_value, slope_std_error = stats.linregress(rate['timestamp'], rate['rating'])\n",
    "plt.plot(rate['created_at'].values, rate['timestamp']*fit.slope + fit.intercept, 'r-',linewidth=3)\n",
    "plt.show()"
   ]
  },
  {
   "cell_type": "markdown",
   "metadata": {
    "_cell_guid": "962cbc51-0edf-455d-837d-bd30c83d2a6f",
    "_uuid": "8f603198bcccb42e7b8c53ec45a086d75309fcd0"
   },
   "source": [
    "\n",
    "From the scatter plot, I noticed that there are a lot of points closing to 11, so I\n",
    "want to figure out the change of rate ranges, which are 0-9, 10-12 and over 13. I\n",
    "grouped the year/month and rate range together, then took the sum of the number of\n",
    "rate according to the rateRange classifier. The histogram(stacked bar chart) can\n",
    "present the portion of these three ranges clearly, and we can get a clear output that\n",
    "the large number of rate ranges is 10-12. Meanwhile, there are less bad dogs (0-9)\n",
    "since the 0-9 part almost disappear."
   ]
  },
  {
   "cell_type": "code",
   "execution_count": 7,
   "metadata": {
    "_cell_guid": "ca4d9dab-0ca0-4bec-b0be-274723bce895",
    "_uuid": "c98932774521c9cd39b792ee2c11f5bb3bb73f36",
    "scrolled": false
   },
   "outputs": [
    {
     "data": {
      "text/plain": [
       "0     [10-12]\n",
       "8      (12,∞)\n",
       "9      (12,∞)\n",
       "20     (12,∞)\n",
       "30    [10-12]\n",
       "Name: rateRange, dtype: object"
      ]
     },
     "execution_count": 7,
     "metadata": {},
     "output_type": "execute_result"
    }
   ],
   "source": [
    "#Create rate range\n",
    "def rateSplit(rate):\n",
    "    if rate < 10:\n",
    "        rate = \"[0,10)\"\n",
    "    elif rate >=10 and rate <= 12:\n",
    "        rate = \"[10-12]\"\n",
    "    elif rate >= 13:\n",
    "        rate = \"(12,∞)\"\n",
    "    return rate\n",
    "\n",
    "rate['rateRange'] = rate['rating'].apply(lambda x: rateSplit(x))\n",
    "rate['rateRange'].head()"
   ]
  },
  {
   "cell_type": "code",
   "execution_count": 8,
   "metadata": {
    "_cell_guid": "dbb76288-0571-458e-a907-a92dd0ee194a",
    "_uuid": "66e7e794c7e2a26838d9c75ba0f93f7c0bd25a64"
   },
   "outputs": [
    {
     "data": {
      "image/png": "[encoded data removed]",
      "text/plain": [
       "<Figure size 432x288 with 1 Axes>"
      ]
     },
     "metadata": {},
     "output_type": "display_data"
    }
   ],
   "source": [
    "rate['YearMonth'] = rate['created_at'].apply(lambda x:x.strftime('%Y-%m'))\n",
    "# rate2 = rate.groupby(['YearMonth' , 'rateRange'])['rateRange'].count()\n",
    "#### VERY VERY USEFUL WAY FOR STACKED BAR CHART !!! ####\n",
    "rate2 = rate.groupby(['YearMonth' , 'rateRange'])['rateRange'].count().unstack()\n",
    "# rate2 = rate.groupby(['YearMonth'])['rateRange'].count()\n",
    "rate2.plot(kind='bar', stacked = True)\n",
    "plt.show()"
   ]
  },
  {
   "cell_type": "markdown",
   "metadata": {
    "_cell_guid": "f301c039-b0de-42f0-9b92-e2f4f960e035",
    "_uuid": "3c8829d4dc9aded5eff245e71794ecc7251ce2bf",
    "scrolled": true
   },
   "source": [
    "However, the fact might be different from the rate showing at @dog_rate\n",
    "because bad dogs should not disappear because we can still hear the news that so\n",
    "dogs bite people. This is a contradiction comparing with the reality. The reason\n",
    "leading to the rate inflation is that people who post their dog to @dog_rate must\n",
    "have an either cute dog or funny dog. Those people can’t accept a low score of their\n",
    "dogs, so that they almost choose the best photo of their dogs that everyone likes. On\n",
    "the other hand, it is a promotion for @dog_rate to gain fans. @dog_rate can catch the\n",
    "humanity, so that most of his rates are over 10, which is the full rate that can’t be\n",
    "exceed. Thus, it is not weird that pup inflation truly occurs in @dog_rate."
   ]
  },
  {
   "cell_type": "code",
   "execution_count": 9,
   "metadata": {
    "_cell_guid": "6d9980f3-57a9-4537-ac18-081abdfbf8ff",
    "_uuid": "4ac0b5bf5e05077d61394d1bb2d39d2144a4db10"
   },
   "outputs": [
    {
     "name": "stdout",
     "output_type": "stream",
     "text": [
      "                            OLS Regression Results                            \n",
      "==============================================================================\n",
      "Dep. Variable:                 rating   R-squared:                       0.979\n",
      "Model:                            OLS   Adj. R-squared:                  0.979\n",
      "Method:                 Least Squares   F-statistic:                 5.455e+04\n",
      "Date:                Sat, 14 Jul 2018   Prob (F-statistic):               0.00\n",
      "Time:                        18:23:54   Log-Likelihood:                -2266.6\n",
      "No. Observations:                1177   AIC:                             4535.\n",
      "Df Residuals:                    1176   BIC:                             4540.\n",
      "Df Model:                           1                                         \n",
      "Covariance Type:            nonrobust                                         \n",
      "==============================================================================\n",
      "                 coef    std err          t      P>|t|      [0.025      0.975]\n",
      "------------------------------------------------------------------------------\n",
      "timestamp   7.676e-09   3.29e-11    233.561      0.000    7.61e-09    7.74e-09\n",
      "==============================================================================\n",
      "Omnibus:                      563.930   Durbin-Watson:                   1.762\n",
      "Prob(Omnibus):                  0.000   Jarque-Bera (JB):             4318.519\n",
      "Skew:                          -2.069   Prob(JB):                         0.00\n",
      "Kurtosis:                      11.422   Cond. No.                         1.00\n",
      "==============================================================================\n",
      "\n",
      "Warnings:\n",
      "[1] Standard Errors assume that the covariance matrix of the errors is correctly specified.\n"
     ]
    }
   ],
   "source": [
    "x = rate['timestamp']\n",
    "y = rate['rating']\n",
    "# X = sm.add_constant(x)\n",
    "result = sm.OLS(y, x).fit()\n",
    "print(result.summary()) "
   ]
  },
  {
   "cell_type": "code",
   "execution_count": 10,
   "metadata": {
    "_cell_guid": "a05e39bf-4482-4fb4-b8d2-cacb277f7d04",
    "_uuid": "360f65b35c260acae3aeba45bea860cce7549aed"
   },
   "outputs": [
    {
     "data": {
      "image/png": "[encoded data removed]",
      "text/plain": [
       "<Figure size 432x288 with 1 Axes>"
      ]
     },
     "metadata": {},
     "output_type": "display_data"
    }
   ],
   "source": [
    "plt.hist(result.resid, bins=50)\n",
    "plt.show()"
   ]
  },
  {
   "cell_type": "code",
   "execution_count": null,
   "metadata": {
    "_cell_guid": "2391fded-1f83-47b0-b3f3-880cb82483b0",
    "_uuid": "d8710388d3350e466217c3e95268e7c341ed92af"
   },
   "outputs": [],
   "source": []
  },
  {
   "cell_type": "code",
   "execution_count": null,
   "metadata": {
    "_cell_guid": "1f5a8aed-c218-42e2-b334-d9d7b1d496be",
    "_uuid": "ead02f138079de0a50a1773262ae69e8f958ae8f"
   },
   "outputs": [],
   "source": []
  },
  {
   "cell_type": "code",
   "execution_count": null,
   "metadata": {
    "_cell_guid": "8f37a29c-b9fa-40ba-a5fd-8a9ad15c586f",
    "_uuid": "19ea94e09ae4cf13a95d8903b76f772473b1656e"
   },
   "outputs": [],
   "source": []
  }
 ],
 "metadata": {
  "kernelspec": {
   "display_name": "Python 3",
   "language": "python",
   "name": "python3"
  },
  "language_info": {
   "codemirror_mode": {
    "name": "ipython",
    "version": 3
   },
   "file_extension": ".py",
   "mimetype": "text/x-python",
   "name": "python",
   "nbconvert_exporter": "python",
   "pygments_lexer": "ipython3",
   "version": "3.6.5"
  }
 },
 "nbformat": 4,
 "nbformat_minor": 1
}
