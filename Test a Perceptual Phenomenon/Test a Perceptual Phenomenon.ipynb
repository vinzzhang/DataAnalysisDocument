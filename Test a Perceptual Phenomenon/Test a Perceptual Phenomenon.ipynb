{
 "cells": [
  {
   "cell_type": "markdown",
   "metadata": {},
   "source": [
    "## Analyzing the Stroop Effect\n",
    "\n",
    "### Background Information  \n",
    "In a Stroop task, participants are presented with a list of words, with each word displayed in a color of ink. The participant’s task is to say out loud the color of the ink in which the word is printed. The task has two conditions: a congruent words condition, and an incongruent words condition. In the congruent words condition, the words being displayed are color words whose names match the colors in which they are printed: for example \"RED\" with red color, \"BLUE\" with bule color. In the incongruent words condition, the words displayed are color words whose names do not match the colors in which they are printed: for example \"PURPLE\" in not-purple color, \"ORANGE\" in not -orange color. In each case, we measure the time it takes to name the ink colors in equally-sized lists. Each participant will go through and record a time from each condition.\n",
    "\n",
    "#### My test result: Congruent: 10.25s, Incongruent: 30.13s  "
   ]
  },
  {
   "cell_type": "markdown",
   "metadata": {},
   "source": [
    "**(1) What is the independent variable? What is the dependent variable?**"
   ]
  },
  {
   "cell_type": "markdown",
   "metadata": {},
   "source": [
    "Independent variable: congruent group where words and colors are congruent & incongruent words where words and colors are incongruent  \n",
    "\n",
    "Dependent variable: time used to name ink colors in lists"
   ]
  },
  {
   "cell_type": "markdown",
   "metadata": {},
   "source": [
    "**(2) What is an appropriate set of hypotheses for this task? Specify your null and alternative hypotheses, and clearly define any notation used. Justify your choices.**"
   ]
  },
  {
   "cell_type": "markdown",
   "metadata": {},
   "source": [
    " ### Reasons of choosing **Paired t test**  \n",
    "+ We know the sample but don't know the std\n",
    "+ The sample size is less than thirty. \n",
    "+ The sample is two kinds of experiment data for each participant (same population), so that each pair of observations is closely related. \n",
    "\n",
    "*There are three types of t test, such as **one sample t test, two samples t test & paired t test.** * \n",
    "\n",
    " ### Reasons of choosing **two-tailed test**  \n",
    "**Two-tailed test with the significant level α = 0.05** becasue I only care whether there exists Stroop Effect or no. I don't have to test the which kind of experiment cost more time, even though I can notice that Incongruent group has a high mean of time used to name ink colors for the given sample.   \n",
    "α =0.05 is the standard significant level used in the hypothesis test.\n",
    "\n",
    "### Set Null hypothesis & Altervative hypothesis\n",
    "+ **Null hypothesis H0: μ_c=μ_i**, the mean of time used to name the congruent words μ_c is same as that of time used to name the incongruent words μ_i, which means there is no Stroop Effect   \n",
    "+ **Altervative hypothesis H1: μ_c≠μ_i**, the mean of time used to name the congruent words μ_c is different from that of time used to name the incongruent words μ_i, which means there exists Stroop Effect  \n",
    "\n",
    "### Test **assumpotions of the paired t test:**  \n",
    "+ The dependent variable (DV) must be continuous which is measured on an **interval or ratio scale**;\n",
    "+ The DV should be approximately normally distributed:\n",
    "    + Testing for normality needs to be conducted on the **differences between the two conditions**, not the raw values of each condition itself;\n",
    "    + **The paired sample t-test is robust to this violation. If there is a violation of normality, as long as it’s not in a major violation the test results can be considered valid**;\n",
    "+ The DV should not contain any significant outliers."
   ]
  },
  {
   "cell_type": "code",
   "execution_count": 26,
   "metadata": {},
   "outputs": [
    {
     "name": "stdout",
     "output_type": "stream",
     "text": [
      "pvalue = 0.0360 , which is less than α=0.05, so we reject H0. Thus, difference is not normally-distributed.\n"
     ]
    },
    {
     "data": {
      "image/png": "[encoded data removed]",
      "text/plain": [
       "<matplotlib.figure.Figure at 0x7f0a0cf21b38>"
      ]
     },
     "metadata": {},
     "output_type": "display_data"
    },
    {
     "data": {
      "image/png": "[encoded data removed]",
      "text/plain": [
       "<matplotlib.figure.Figure at 0x7f0a0cbeaf28>"
      ]
     },
     "metadata": {},
     "output_type": "display_data"
    }
   ],
   "source": [
    "import pandas as pd\n",
    "import numpy as np\n",
    "import matplotlib.pyplot as plt\n",
    "import pylab \n",
    "\n",
    "from scipy.stats import ttest_ind\n",
    "from scipy import stats\n",
    "\n",
    "df = pd.read_csv('stroopdata.csv')\n",
    "\n",
    "df['difference'] =  df['Incongruent'] - df['Congruent']\n",
    "# Normaltest is based on D’Agostino and Pearson’s test that combines skew and kurtosis to produce an omnibus test of normality.\n",
    "# H0 is that the data is normally-distributed.\n",
    "pvalue = stats.shapiro(df['difference'])[1]\n",
    "print('pvalue = %.4f , which is less than α=0.05, so we reject H0. Thus, difference is not normally-distributed.'% pvalue)\n",
    "stats.probplot(df['difference'], dist=\"norm\", plot=pylab)\n",
    "pylab.show()\n",
    "\n",
    "# Boxplot to detect outliers again\n",
    "plt.boxplot(df['difference'], sym='rs', vert=False)\n",
    "plt.title('Difference of Time Used of Congruent & Incongruent')\n",
    "plt.xlabel('Time (s)')\n",
    "\n",
    "plt.show()"
   ]
  },
  {
   "cell_type": "markdown",
   "metadata": {},
   "source": [
    "### Observation\n",
    "From the Q-Q plot and the box plot of difference between two experiment groups, the given sample doesn't not pass the assumption.\n",
    "\n",
    "### Approaches to address non-normality\n",
    "\n",
    "+ Remove outliers: **arbitrary removal** is dangerous, because we force the data to conform to some **preconceived notion** as to what data should look like.  \n",
    "+ **Ignore the normality assumption**: T test is **robust to non normal distribution** if the sample is approximate normality (not strictly normal) and the shape is close to a bell shape rather than a bimodal/multimodal/massive skewed shape. If the test running is not sensitive to normality, we may still run it even if the data are not normal.\n",
    "+ Transformations: transform the sample by math fucntions to convert left or right skewed dataset into normal.  \n",
    "```np.sqrt(df['difference'])```\n",
    "+ Bootstrapping: resampling with repalcement maintains data structure but reshuffles values, extrapolating to the population.\n",
    "    + process: sample values with replacement and calculate mean; repate n times; generate **sampling distribution of sample means**.  \n",
    "    ```np.random.choice(df['difference'], size=df['difference'].shape)```\n",
    "+ Non-parametric statistical test: non-parametric tests do not assume that the data fit the normal distribution. However; if different groups have different shaped distributions (for example, one is skewed to the left, another is skewed to the right), a non-parametric test may not be any better than a parametric one. Every parametric statistical test has a non-parametric substitute, such as:\n",
    "    + **Kruskal–Wallis test** instead of a **one-way anova**, \n",
    "    + **Wilcoxon signed-rank test** instead of a **paired t-test**, \n",
    "    + **Mann-Whitney U test** instead of a **one/two sample t test**\n",
    "    + **Spearman rank correlation** instead of the **linear regression**.   \n",
    "    \n",
    "\n",
    "    \n",
    "### Conclusion\n",
    "**Wilcoxon signed-rank test** is a proper statistical test for this sample.  \n",
    "<u>*I will transform the sample and apply t test in the end.*</u>"
   ]
  },
  {
   "cell_type": "markdown",
   "metadata": {},
   "source": [
    "**(3) Report some descriptive statistics regarding this dataset. Include at least one measure of central tendency and at least one measure of variability. The name of the data file is 'stroopdata.csv'.**"
   ]
  },
  {
   "cell_type": "code",
   "execution_count": 27,
   "metadata": {},
   "outputs": [
    {
     "data": {
      "text/html": [
       "<div>\n",
       "<style>\n",
       "    .dataframe thead tr:only-child th {\n",
       "        text-align: right;\n",
       "    }\n",
       "\n",
       "    .dataframe thead th {\n",
       "        text-align: left;\n",
       "    }\n",
       "\n",
       "    .dataframe tbody tr th {\n",
       "        vertical-align: top;\n",
       "    }\n",
       "</style>\n",
       "<table border=\"1\" class=\"dataframe\">\n",
       "  <thead>\n",
       "    <tr style=\"text-align: right;\">\n",
       "      <th></th>\n",
       "      <th>Congruent</th>\n",
       "      <th>Incongruent</th>\n",
       "      <th>difference</th>\n",
       "    </tr>\n",
       "  </thead>\n",
       "  <tbody>\n",
       "    <tr>\n",
       "      <th>count</th>\n",
       "      <td>24.000000</td>\n",
       "      <td>24.000000</td>\n",
       "      <td>24.000000</td>\n",
       "    </tr>\n",
       "    <tr>\n",
       "      <th>mean</th>\n",
       "      <td>14.051125</td>\n",
       "      <td>22.015917</td>\n",
       "      <td>7.964792</td>\n",
       "    </tr>\n",
       "    <tr>\n",
       "      <th>std</th>\n",
       "      <td>3.559358</td>\n",
       "      <td>4.797057</td>\n",
       "      <td>4.864827</td>\n",
       "    </tr>\n",
       "    <tr>\n",
       "      <th>min</th>\n",
       "      <td>8.630000</td>\n",
       "      <td>15.687000</td>\n",
       "      <td>1.950000</td>\n",
       "    </tr>\n",
       "    <tr>\n",
       "      <th>25%</th>\n",
       "      <td>11.895250</td>\n",
       "      <td>18.716750</td>\n",
       "      <td>3.645500</td>\n",
       "    </tr>\n",
       "    <tr>\n",
       "      <th>50%</th>\n",
       "      <td>14.356500</td>\n",
       "      <td>21.017500</td>\n",
       "      <td>7.666500</td>\n",
       "    </tr>\n",
       "    <tr>\n",
       "      <th>75%</th>\n",
       "      <td>16.200750</td>\n",
       "      <td>24.051500</td>\n",
       "      <td>10.258500</td>\n",
       "    </tr>\n",
       "    <tr>\n",
       "      <th>max</th>\n",
       "      <td>22.328000</td>\n",
       "      <td>35.255000</td>\n",
       "      <td>21.919000</td>\n",
       "    </tr>\n",
       "  </tbody>\n",
       "</table>\n",
       "</div>"
      ],
      "text/plain": [
       "       Congruent  Incongruent  difference\n",
       "count  24.000000    24.000000   24.000000\n",
       "mean   14.051125    22.015917    7.964792\n",
       "std     3.559358     4.797057    4.864827\n",
       "min     8.630000    15.687000    1.950000\n",
       "25%    11.895250    18.716750    3.645500\n",
       "50%    14.356500    21.017500    7.666500\n",
       "75%    16.200750    24.051500   10.258500\n",
       "max    22.328000    35.255000   21.919000"
      ]
     },
     "execution_count": 27,
     "metadata": {},
     "output_type": "execute_result"
    }
   ],
   "source": [
    "df.describe()"
   ]
  },
  {
   "cell_type": "code",
   "execution_count": 28,
   "metadata": {},
   "outputs": [
    {
     "name": "stdout",
     "output_type": "stream",
     "text": [
      "Congreunt median: 14.3565    Incongreunt median: 21.0175\n",
      "Congreunt range: 13.6980    Incongreunt range: 19.5680\n",
      "Congreunt IQR: 4.3055    Incongreunt IQR: 5.3347\n",
      "Congreunt std: 3.5594    Incongreunt std: 4.7971\n"
     ]
    },
    {
     "data": {
      "text/html": [
       "<div>\n",
       "<style>\n",
       "    .dataframe thead tr:only-child th {\n",
       "        text-align: right;\n",
       "    }\n",
       "\n",
       "    .dataframe thead th {\n",
       "        text-align: left;\n",
       "    }\n",
       "\n",
       "    .dataframe tbody tr th {\n",
       "        vertical-align: top;\n",
       "    }\n",
       "</style>\n",
       "<table border=\"1\" class=\"dataframe\">\n",
       "  <thead>\n",
       "    <tr style=\"text-align: right;\">\n",
       "      <th></th>\n",
       "      <th>Congruent</th>\n",
       "      <th>Incongruent</th>\n",
       "      <th>difference</th>\n",
       "    </tr>\n",
       "  </thead>\n",
       "  <tbody>\n",
       "    <tr>\n",
       "      <th>0</th>\n",
       "      <td>12.079</td>\n",
       "      <td>19.278</td>\n",
       "      <td>7.199</td>\n",
       "    </tr>\n",
       "    <tr>\n",
       "      <th>1</th>\n",
       "      <td>16.791</td>\n",
       "      <td>18.741</td>\n",
       "      <td>1.950</td>\n",
       "    </tr>\n",
       "    <tr>\n",
       "      <th>2</th>\n",
       "      <td>9.564</td>\n",
       "      <td>21.214</td>\n",
       "      <td>11.650</td>\n",
       "    </tr>\n",
       "    <tr>\n",
       "      <th>3</th>\n",
       "      <td>8.630</td>\n",
       "      <td>15.687</td>\n",
       "      <td>7.057</td>\n",
       "    </tr>\n",
       "    <tr>\n",
       "      <th>4</th>\n",
       "      <td>14.669</td>\n",
       "      <td>22.803</td>\n",
       "      <td>8.134</td>\n",
       "    </tr>\n",
       "  </tbody>\n",
       "</table>\n",
       "</div>"
      ],
      "text/plain": [
       "   Congruent  Incongruent  difference\n",
       "0     12.079       19.278       7.199\n",
       "1     16.791       18.741       1.950\n",
       "2      9.564       21.214      11.650\n",
       "3      8.630       15.687       7.057\n",
       "4     14.669       22.803       8.134"
      ]
     },
     "execution_count": 28,
     "metadata": {},
     "output_type": "execute_result"
    }
   ],
   "source": [
    "# Except for describe table data, there are other mesurements: median, range, IQR, difference\n",
    "\n",
    "# Central tendency:\n",
    "print('Congreunt median: %.4f    Incongreunt median: %.4f' %(df['Congruent'].median(), df['Incongruent'].median()))\n",
    "\n",
    "# Variability:\n",
    "range_c = df['Congruent'].max()-df['Congruent'].min()\n",
    "range_i = df['Incongruent'].max()-df['Incongruent'].min()\n",
    "iqr_c = df['Congruent'].quantile(0.75)-df['Congruent'].quantile(0.25)\n",
    "iqr_i = df['Incongruent'].quantile(0.75)-df['Incongruent'].quantile(0.25)\n",
    "\n",
    "print('Congreunt range: %.4f    Incongreunt range: %.4f' %(range_c, range_i))\n",
    "print('Congreunt IQR: %.4f    Incongreunt IQR: %.4f' %(iqr_c, iqr_i))\n",
    "print('Congreunt std: %.4f    Incongreunt std: %.4f' %(df['Congruent'].std(), df['Incongruent'].std()))\n",
    "\n",
    "df.head() #show difference"
   ]
  },
  {
   "cell_type": "markdown",
   "metadata": {},
   "source": [
    "**(4) Provide one or two visualizations that show the distribution of the sample data. Write one or two sentences noting what you observe about the plot or plots.**"
   ]
  },
  {
   "cell_type": "code",
   "execution_count": 29,
   "metadata": {},
   "outputs": [
    {
     "data": {
      "image/png": "[encoded data removed]",
      "text/plain": [
       "<matplotlib.figure.Figure at 0x7f0a0cd7d828>"
      ]
     },
     "metadata": {},
     "output_type": "display_data"
    },
    {
     "data": {
      "image/png": "[encoded data removed]",
      "text/plain": [
       "<matplotlib.figure.Figure at 0x7f0a0cdc1630>"
      ]
     },
     "metadata": {},
     "output_type": "display_data"
    },
    {
     "data": {
      "image/png": "[encoded data removed]",
      "text/plain": [
       "<matplotlib.figure.Figure at 0x7f0a0cc2b7b8>"
      ]
     },
     "metadata": {},
     "output_type": "display_data"
    }
   ],
   "source": [
    "experiments = [df['Congruent'], df['Incongruent']]\n",
    "\n",
    "# Histgram: plot quantitative data with ranges of the data grouped into bins or intervals\n",
    "plt.figure(figsize=(8,4))\n",
    "plt.hist(experiments, label=['Congruent', 'Incongruent'])\n",
    "plt.title('Time Used Distribution of Congruent & Incongruent')\n",
    "plt.xlabel('Time (s)')\n",
    "plt.legend()\n",
    "\n",
    "# Bar Chart: plot categorical data\n",
    "x = df.index.tolist()\n",
    "ind = np.arange(df.count()[0])\n",
    "width = 0.4\n",
    "\n",
    "plt.figure(figsize=(8,4))\n",
    "plt.bar(ind, df['Congruent'], width, label = 'Congruent')\n",
    "plt.bar(ind+width, df['Incongruent'], width, label = 'Incongruent')\n",
    "plt.title('Time Used for Each Participant')\n",
    "plt.ylabel('Time (s)')\n",
    "plt.xlabel('Participant id')\n",
    "plt.xticks(x)\n",
    "plt.legend()\n",
    "\n",
    "# Boxplot\n",
    "plt.figure(figsize=(8,4))\n",
    "plt.boxplot(experiments, sym='rs', vert=False)\n",
    "plt.title('Time Used of Congruent & Incongruent')\n",
    "plt.yticks([1, 2, ], ['Congruent', 'Incongruent'])\n",
    "plt.xlabel('Time (s)')\n",
    "plt.legend()\n",
    "\n",
    "plt.show()"
   ]
  },
  {
   "cell_type": "markdown",
   "metadata": {},
   "source": [
    "### Oberservation\n",
    "Time used in incongruent is large than that in congruent regarding each participant. The median of the incongruent experiment is larger than that of the congruent experiment. Also, there are two obvious ouliers in the incongruent experiment while there is no outlier for the congruent one. Outliers skew the true mean of incongruent values. If we remove outliers, these two groups are normally-distributed respectively."
   ]
  },
  {
   "cell_type": "markdown",
   "metadata": {},
   "source": [
    "**(5)  Now, perform the statistical test and report your results. What is your confidence level or Type I error associated with your test? What is your conclusion regarding the hypotheses you set up? Did the results match up with your expectations? Hint: Think about what is being measured on each individual, and what statistic best captures how an individual reacts in each environment.**"
   ]
  },
  {
   "cell_type": "markdown",
   "metadata": {},
   "source": [
    "## Handle Non Normality I:  \n",
    "### Wilcoxon signed-rank test: pseudo code for understanding  \n",
    "+ Calculate difference between two groups: ```df['difference'] = df['Incongruent'] - df['Congruent']```  \n",
    "+ Take the absolute value of the difference: ```df['abs'] = np.abs(df['difference'])```  \n",
    "+ Rank abs from the smallest to the largest: ```scipy.stats.rankdata ``` ;   ```df['rank'] = rankdata(df['abs'])```\n",
    "+ Sum the rank of the neg difference & that of the pos difference: ```posRank = df.loc[df['difference'] > 0 ]```;```negRank = df.loc[df['difference'] < 0]```\n",
    "    + ```pr = posRank['rank'].sum()```; ```nr = negRank['rank'].sum()```\n",
    "+ Take the smaller one as **T statistic** from posRank and negRank: ```min(pr, nr)```\n",
    "+ Find **T critical** values based on the case: n = 24, α = 0.05, two_tailed test, (right tail case)\n",
    "    + If T statistic < T critical, p < 0.05, reject H0; **Opposite result of relations between the critical value & the statistic, comparing with T test**\n",
    "    + If T statistic > T critical, p > 0.05, fail to reject H0"
   ]
  },
  {
   "cell_type": "code",
   "execution_count": 30,
   "metadata": {},
   "outputs": [
    {
     "name": "stdout",
     "output_type": "stream",
     "text": [
      "pvalue = 0.000018 less than α=0.05, so we reject H0. Thus, there exist the Stroop Effect in congruent and incongruent groups of data.\n"
     ]
    }
   ],
   "source": [
    "wilcoxon = stats.wilcoxon(df['Congruent'],df['Incongruent'])\n",
    "print('pvalue = %f less than α=0.05, so we reject H0. Thus, there exist the Stroop Effect in congruent and incongruent groups of data.'% wilcoxon.pvalue)"
   ]
  },
  {
   "cell_type": "markdown",
   "metadata": {},
   "source": [
    "### Conclusion\n",
    "Type I error is equal to α, which is the significant level, indicating incorrect rejection of a true null hypothesis.  \n",
    "The pvalue = 0.000018 less than α=0.05, so we reject H0. Thus, there exist the Stroop Effect in congruent and incongruent groups of data.  \n",
    "The result matches up with my expectations."
   ]
  },
  {
   "cell_type": "code",
   "execution_count": null,
   "metadata": {},
   "outputs": [],
   "source": []
  },
  {
   "cell_type": "markdown",
   "metadata": {},
   "source": [
    "## Handle Non Normality II:  \n",
    "### Transform Difference to Normal for the Paired T Test"
   ]
  },
  {
   "cell_type": "code",
   "execution_count": 31,
   "metadata": {},
   "outputs": [
    {
     "name": "stdout",
     "output_type": "stream",
     "text": [
      "pvalue = 0.4186 , which is larger than α=0.05, so we fail tp reject H0. Thus, the transformed difference is normally-distributed.\n"
     ]
    },
    {
     "data": {
      "image/png": "[encoded data removed]",
      "text/plain": [
       "<matplotlib.figure.Figure at 0x7f0a0cc60898>"
      ]
     },
     "metadata": {},
     "output_type": "display_data"
    }
   ],
   "source": [
    "# Transformation\n",
    "t_c = np.sqrt(df['Congruent'])\n",
    "t_i = np.sqrt(df['Incongruent'])\n",
    "df['transformed'] = t_i - t_c\n",
    "\n",
    "# Normality test \n",
    "pvalue = stats.normaltest(df['transformed']).pvalue\n",
    "print('pvalue = %.4f , which is larger than α=0.05, so we fail tp reject H0. Thus, the transformed difference is normally-distributed.'% pvalue)\n",
    "stats.probplot(df['transformed'], dist=\"norm\", plot=pylab)\n",
    "pylab.show()"
   ]
  },
  {
   "cell_type": "markdown",
   "metadata": {},
   "source": [
    "### Confidence interval:\n",
    "+ Find **t critical** values based on the case: df = n - 1 = 24 - 1 = 23, α = 0.05, two_tailed test, (right tail case): **t critical = 2.069**\n",
    "+ Calculate the **confidence interval**: $\\bar{X}\\pm t_{critical} \\times SE(\\bar{X}) $\n",
    "    + $\\bar{X}$: mean of difference\n",
    "    + $SE(\\bar{X})  = \\frac{S}{\\sqrt{n}}$; S: sample standard deviation "
   ]
  },
  {
   "cell_type": "code",
   "execution_count": 32,
   "metadata": {},
   "outputs": [
    {
     "name": "stdout",
     "output_type": "stream",
     "text": [
      "95% Confidence Interval of transformed sample: (0.7228, 1.1740)\n"
     ]
    }
   ],
   "source": [
    "n=24\n",
    "t_critical = 2.069\n",
    "xbar = df['transformed'].mean()\n",
    "s = df['transformed'].std()\n",
    "sem = np.divide(s, np.sqrt(n))\n",
    "lower_bound = xbar-t_critical*sem\n",
    "upper_bound = xbar+t_critical*sem\n",
    "print('95%% Confidence Interval of transformed sample: (%.4f, %.4f)' % (lower_bound, upper_bound))"
   ]
  },
  {
   "cell_type": "markdown",
   "metadata": {},
   "source": [
    "### Paired t test: t statistic & p value:\n",
    " \n",
    "Since we use the paried t test, our H0 changes to μ=0 & H1 changes to μ≠0, which indicates whether two groups' difference is 0 or not. (whether exists Stroop Effect or not). This is different from the two sample t test because it compares two means from two samples while the paired t test is used to check whether the mean changes for two different experiments on one population or not.  \n",
    "\n",
    "+ Calculate $t_{statistic}=\\frac{\\bar{X}-\\mu}{SE(\\bar{X})}$; μ=0\n",
    "\n",
    "    + If t statistic > t critical, p < 0.05, reject H0;\n",
    "    + If t statistic < t critical, p > 0.05, fail to reject H0"
   ]
  },
  {
   "cell_type": "code",
   "execution_count": 33,
   "metadata": {},
   "outputs": [
    {
     "data": {
      "text/plain": [
       "Ttest_relResult(statistic=8.6990318143841385, pvalue=9.8952413068801949e-09)"
      ]
     },
     "execution_count": 33,
     "metadata": {},
     "output_type": "execute_result"
    }
   ],
   "source": [
    "# Two_tailed paired t test of the transformed sample with 0.05 siginificant level \n",
    "stats.ttest_rel(t_i, t_c)"
   ]
  },
  {
   "cell_type": "markdown",
   "metadata": {},
   "source": [
    "### Conclusion\n",
    "In the case of the siginificant level α = 0.05, two-tailed test, and the degree of freedom df = n - 1 = 24 -1 = 23, the **t critical is 2.069** based on the t table. \n",
    "Our t statistic is 8.70, which is larger than t critical (the pvalue is less than α=0.05), so we reject H0. Thus, there exist Stroop Effect between Congruent and Incongruent groups. And 95% confidence Interval of transformed sample: (0.7228, 1.1740)"
   ]
  },
  {
   "cell_type": "code",
   "execution_count": null,
   "metadata": {},
   "outputs": [],
   "source": []
  },
  {
   "cell_type": "markdown",
   "metadata": {},
   "source": [
    "**(6) Optional: What do you think is responsible for the effects observed? Can you think of an alternative or similar task that would result in a similar effect? Some research about the problem will be helpful for thinking about these two questions!**"
   ]
  },
  {
   "cell_type": "markdown",
   "metadata": {},
   "source": [
    "I believe subconscious leads to a time_used gain in naming the ink color correctly. Since we have already had the concecpt of colors and their words with specific letters, if we name the incongruent group, what we see has a conflit with what we memorized before. The gain of time_used is the time that we spend in handling the conflict.  "
   ]
  },
  {
   "cell_type": "markdown",
   "metadata": {},
   "source": [
    "\n"
   ]
  },
  {
   "cell_type": "markdown",
   "metadata": {},
   "source": [
    "## Reference\n",
    "\n",
    "Stroop Effect experiment: https://faculty.washington.edu/chudler/java/ready.html  \n",
    "Q_Q plot: https://stats.stackexchange.com/a/101290/211157  \n",
    "Paired t test: http://blog.minitab.com/blog/statistics-and-quality-data-analysis/t-for-2-should-i-use-a-paired-t-or-a-2-sample-t  \n",
    "Paired t test assumption: http://www.csic.cornell.edu/Elrod/t-test/t-test-assumptions.html  \n",
    "Paired t test assumption: https://pythonfordatascience.org/paired-samples-t-test-python/  \n",
    "Non-normality: http://blog.minitab.com/blog/understanding-statistics-and-its-application/what-should-i-do-if-my-data-is-not-normal-v2  \n",
    "Handle non-normality: https://stats.stackexchange.com/a/254026/211157  \n",
    "Resampling (Bootstrap): https://www.youtube.com/watch?v=gcPIyeqymOU  \n",
    "Wilcoxon signed rank test: https://en.wikipedia.org/wiki/Wilcoxon_signed-rank_test  \n",
    "Wilcoxon signed rank test & robustness: https://stats.stackexchange.com/a/71463/211157  "
   ]
  }
 ],
 "metadata": {
  "kernelspec": {
   "display_name": "Python 3",
   "language": "python",
   "name": "python3"
  },
  "language_info": {
   "codemirror_mode": {
    "name": "ipython",
    "version": 3
   },
   "file_extension": ".py",
   "mimetype": "text/x-python",
   "name": "python",
   "nbconvert_exporter": "python",
   "pygments_lexer": "ipython3",
   "version": "3.6.3"
  }
 },
 "nbformat": 4,
 "nbformat_minor": 2
}
