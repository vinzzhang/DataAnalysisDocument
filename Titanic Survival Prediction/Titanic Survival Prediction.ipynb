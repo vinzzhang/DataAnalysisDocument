{
 "cells": [
  {
   "cell_type": "code",
   "execution_count": 1,
   "metadata": {
    "_cell_guid": "b1076dfc-b9ad-4769-8c92-a6c4dae69d19",
    "_uuid": "8f2839f25d086af736a60e9eeb907d3b93b6e0e5"
   },
   "outputs": [],
   "source": [
    "import numpy as np\n",
    "import pandas as pd\n",
    "import matplotlib.pyplot as plt\n",
    "\n",
    "from sklearn.model_selection import StratifiedKFold\n",
    "from sklearn.model_selection import GridSearchCV\n",
    "from sklearn.tree import DecisionTreeClassifier\n",
    "from sklearn.linear_model import LogisticRegression\n",
    "from sklearn.svm import SVC\n",
    "from sklearn.naive_bayes import GaussianNB\n",
    "from sklearn.ensemble import RandomForestClassifier\n",
    "from sklearn.ensemble import GradientBoostingClassifier\n",
    "from sklearn.ensemble import VotingClassifier"
   ]
  },
  {
   "cell_type": "markdown",
   "metadata": {
    "_uuid": "210dd6fdf1be52834d11434a90f4c6232ce1cb77"
   },
   "source": [
    "# Loading data"
   ]
  },
  {
   "cell_type": "code",
   "execution_count": 2,
   "metadata": {
    "_cell_guid": "79c7e3d0-c299-4dcb-8224-4455121ee9b0",
    "_uuid": "d629ff2d2480ee46fbb7e2d37f6b5fab8052498a"
   },
   "outputs": [
    {
     "data": {
      "text/html": [
       "<div>\n",
       "<style scoped>\n",
       "    .dataframe tbody tr th:only-of-type {\n",
       "        vertical-align: middle;\n",
       "    }\n",
       "\n",
       "    .dataframe tbody tr th {\n",
       "        vertical-align: top;\n",
       "    }\n",
       "\n",
       "    .dataframe thead th {\n",
       "        text-align: right;\n",
       "    }\n",
       "</style>\n",
       "<table border=\"1\" class=\"dataframe\">\n",
       "  <thead>\n",
       "    <tr style=\"text-align: right;\">\n",
       "      <th></th>\n",
       "      <th>Age</th>\n",
       "      <th>Cabin</th>\n",
       "      <th>Embarked</th>\n",
       "      <th>Fare</th>\n",
       "      <th>Name</th>\n",
       "      <th>Parch</th>\n",
       "      <th>PassengerId</th>\n",
       "      <th>Pclass</th>\n",
       "      <th>Sex</th>\n",
       "      <th>SibSp</th>\n",
       "      <th>Survived</th>\n",
       "      <th>Ticket</th>\n",
       "    </tr>\n",
       "  </thead>\n",
       "  <tbody>\n",
       "    <tr>\n",
       "      <th>0</th>\n",
       "      <td>22.0</td>\n",
       "      <td>NaN</td>\n",
       "      <td>S</td>\n",
       "      <td>7.2500</td>\n",
       "      <td>Braund, Mr. Owen Harris</td>\n",
       "      <td>0</td>\n",
       "      <td>1</td>\n",
       "      <td>3</td>\n",
       "      <td>male</td>\n",
       "      <td>1</td>\n",
       "      <td>0.0</td>\n",
       "      <td>A/5 21171</td>\n",
       "    </tr>\n",
       "    <tr>\n",
       "      <th>1</th>\n",
       "      <td>38.0</td>\n",
       "      <td>C85</td>\n",
       "      <td>C</td>\n",
       "      <td>71.2833</td>\n",
       "      <td>Cumings, Mrs. John Bradley (Florence Briggs Th...</td>\n",
       "      <td>0</td>\n",
       "      <td>2</td>\n",
       "      <td>1</td>\n",
       "      <td>female</td>\n",
       "      <td>1</td>\n",
       "      <td>1.0</td>\n",
       "      <td>PC 17599</td>\n",
       "    </tr>\n",
       "    <tr>\n",
       "      <th>2</th>\n",
       "      <td>26.0</td>\n",
       "      <td>NaN</td>\n",
       "      <td>S</td>\n",
       "      <td>7.9250</td>\n",
       "      <td>Heikkinen, Miss. Laina</td>\n",
       "      <td>0</td>\n",
       "      <td>3</td>\n",
       "      <td>3</td>\n",
       "      <td>female</td>\n",
       "      <td>0</td>\n",
       "      <td>1.0</td>\n",
       "      <td>STON/O2. 3101282</td>\n",
       "    </tr>\n",
       "    <tr>\n",
       "      <th>3</th>\n",
       "      <td>35.0</td>\n",
       "      <td>C123</td>\n",
       "      <td>S</td>\n",
       "      <td>53.1000</td>\n",
       "      <td>Futrelle, Mrs. Jacques Heath (Lily May Peel)</td>\n",
       "      <td>0</td>\n",
       "      <td>4</td>\n",
       "      <td>1</td>\n",
       "      <td>female</td>\n",
       "      <td>1</td>\n",
       "      <td>1.0</td>\n",
       "      <td>113803</td>\n",
       "    </tr>\n",
       "    <tr>\n",
       "      <th>4</th>\n",
       "      <td>35.0</td>\n",
       "      <td>NaN</td>\n",
       "      <td>S</td>\n",
       "      <td>8.0500</td>\n",
       "      <td>Allen, Mr. William Henry</td>\n",
       "      <td>0</td>\n",
       "      <td>5</td>\n",
       "      <td>3</td>\n",
       "      <td>male</td>\n",
       "      <td>0</td>\n",
       "      <td>0.0</td>\n",
       "      <td>373450</td>\n",
       "    </tr>\n",
       "  </tbody>\n",
       "</table>\n",
       "</div>"
      ],
      "text/plain": [
       "    Age Cabin Embarked     Fare  \\\n",
       "0  22.0   NaN        S   7.2500   \n",
       "1  38.0   C85        C  71.2833   \n",
       "2  26.0   NaN        S   7.9250   \n",
       "3  35.0  C123        S  53.1000   \n",
       "4  35.0   NaN        S   8.0500   \n",
       "\n",
       "                                                Name  Parch  PassengerId  \\\n",
       "0                            Braund, Mr. Owen Harris      0            1   \n",
       "1  Cumings, Mrs. John Bradley (Florence Briggs Th...      0            2   \n",
       "2                             Heikkinen, Miss. Laina      0            3   \n",
       "3       Futrelle, Mrs. Jacques Heath (Lily May Peel)      0            4   \n",
       "4                           Allen, Mr. William Henry      0            5   \n",
       "\n",
       "   Pclass     Sex  SibSp  Survived            Ticket  \n",
       "0       3    male      1       0.0         A/5 21171  \n",
       "1       1  female      1       1.0          PC 17599  \n",
       "2       3  female      0       1.0  STON/O2. 3101282  \n",
       "3       1  female      1       1.0            113803  \n",
       "4       3    male      0       0.0            373450  "
      ]
     },
     "execution_count": 2,
     "metadata": {},
     "output_type": "execute_result"
    }
   ],
   "source": [
    "tt_train =  pd.read_csv(\"train.csv\")\n",
    "tt_test =  pd.read_csv(\"test.csv\")\n",
    "tt = tt_train.append(tt_test, ignore_index = True, sort = True)\n",
    "tt.head()"
   ]
  },
  {
   "cell_type": "code",
   "execution_count": 3,
   "metadata": {
    "_uuid": "487d5af930394cdd699ef217031d424dae5e0bf2"
   },
   "outputs": [
    {
     "name": "stdout",
     "output_type": "stream",
     "text": [
      "<class 'pandas.core.frame.DataFrame'>\n",
      "RangeIndex: 1309 entries, 0 to 1308\n",
      "Data columns (total 12 columns):\n",
      "Age            1046 non-null float64\n",
      "Cabin          295 non-null object\n",
      "Embarked       1307 non-null object\n",
      "Fare           1308 non-null float64\n",
      "Name           1309 non-null object\n",
      "Parch          1309 non-null int64\n",
      "PassengerId    1309 non-null int64\n",
      "Pclass         1309 non-null int64\n",
      "Sex            1309 non-null object\n",
      "SibSp          1309 non-null int64\n",
      "Survived       891 non-null float64\n",
      "Ticket         1309 non-null object\n",
      "dtypes: float64(3), int64(4), object(5)\n",
      "memory usage: 122.8+ KB\n"
     ]
    },
    {
     "data": {
      "text/html": [
       "<div>\n",
       "<style scoped>\n",
       "    .dataframe tbody tr th:only-of-type {\n",
       "        vertical-align: middle;\n",
       "    }\n",
       "\n",
       "    .dataframe tbody tr th {\n",
       "        vertical-align: top;\n",
       "    }\n",
       "\n",
       "    .dataframe thead th {\n",
       "        text-align: right;\n",
       "    }\n",
       "</style>\n",
       "<table border=\"1\" class=\"dataframe\">\n",
       "  <thead>\n",
       "    <tr style=\"text-align: right;\">\n",
       "      <th></th>\n",
       "      <th>Age</th>\n",
       "      <th>Fare</th>\n",
       "      <th>Parch</th>\n",
       "      <th>PassengerId</th>\n",
       "      <th>Pclass</th>\n",
       "      <th>SibSp</th>\n",
       "      <th>Survived</th>\n",
       "    </tr>\n",
       "  </thead>\n",
       "  <tbody>\n",
       "    <tr>\n",
       "      <th>count</th>\n",
       "      <td>1046.000000</td>\n",
       "      <td>1308.000000</td>\n",
       "      <td>1309.000000</td>\n",
       "      <td>1309.000000</td>\n",
       "      <td>1309.000000</td>\n",
       "      <td>1309.000000</td>\n",
       "      <td>891.000000</td>\n",
       "    </tr>\n",
       "    <tr>\n",
       "      <th>mean</th>\n",
       "      <td>29.881138</td>\n",
       "      <td>33.295479</td>\n",
       "      <td>0.385027</td>\n",
       "      <td>655.000000</td>\n",
       "      <td>2.294882</td>\n",
       "      <td>0.498854</td>\n",
       "      <td>0.383838</td>\n",
       "    </tr>\n",
       "    <tr>\n",
       "      <th>std</th>\n",
       "      <td>14.413493</td>\n",
       "      <td>51.758668</td>\n",
       "      <td>0.865560</td>\n",
       "      <td>378.020061</td>\n",
       "      <td>0.837836</td>\n",
       "      <td>1.041658</td>\n",
       "      <td>0.486592</td>\n",
       "    </tr>\n",
       "    <tr>\n",
       "      <th>min</th>\n",
       "      <td>0.170000</td>\n",
       "      <td>0.000000</td>\n",
       "      <td>0.000000</td>\n",
       "      <td>1.000000</td>\n",
       "      <td>1.000000</td>\n",
       "      <td>0.000000</td>\n",
       "      <td>0.000000</td>\n",
       "    </tr>\n",
       "    <tr>\n",
       "      <th>25%</th>\n",
       "      <td>21.000000</td>\n",
       "      <td>7.895800</td>\n",
       "      <td>0.000000</td>\n",
       "      <td>328.000000</td>\n",
       "      <td>2.000000</td>\n",
       "      <td>0.000000</td>\n",
       "      <td>0.000000</td>\n",
       "    </tr>\n",
       "    <tr>\n",
       "      <th>50%</th>\n",
       "      <td>28.000000</td>\n",
       "      <td>14.454200</td>\n",
       "      <td>0.000000</td>\n",
       "      <td>655.000000</td>\n",
       "      <td>3.000000</td>\n",
       "      <td>0.000000</td>\n",
       "      <td>0.000000</td>\n",
       "    </tr>\n",
       "    <tr>\n",
       "      <th>75%</th>\n",
       "      <td>39.000000</td>\n",
       "      <td>31.275000</td>\n",
       "      <td>0.000000</td>\n",
       "      <td>982.000000</td>\n",
       "      <td>3.000000</td>\n",
       "      <td>1.000000</td>\n",
       "      <td>1.000000</td>\n",
       "    </tr>\n",
       "    <tr>\n",
       "      <th>max</th>\n",
       "      <td>80.000000</td>\n",
       "      <td>512.329200</td>\n",
       "      <td>9.000000</td>\n",
       "      <td>1309.000000</td>\n",
       "      <td>3.000000</td>\n",
       "      <td>8.000000</td>\n",
       "      <td>1.000000</td>\n",
       "    </tr>\n",
       "  </tbody>\n",
       "</table>\n",
       "</div>"
      ],
      "text/plain": [
       "               Age         Fare        Parch  PassengerId       Pclass  \\\n",
       "count  1046.000000  1308.000000  1309.000000  1309.000000  1309.000000   \n",
       "mean     29.881138    33.295479     0.385027   655.000000     2.294882   \n",
       "std      14.413493    51.758668     0.865560   378.020061     0.837836   \n",
       "min       0.170000     0.000000     0.000000     1.000000     1.000000   \n",
       "25%      21.000000     7.895800     0.000000   328.000000     2.000000   \n",
       "50%      28.000000    14.454200     0.000000   655.000000     3.000000   \n",
       "75%      39.000000    31.275000     0.000000   982.000000     3.000000   \n",
       "max      80.000000   512.329200     9.000000  1309.000000     3.000000   \n",
       "\n",
       "             SibSp    Survived  \n",
       "count  1309.000000  891.000000  \n",
       "mean      0.498854    0.383838  \n",
       "std       1.041658    0.486592  \n",
       "min       0.000000    0.000000  \n",
       "25%       0.000000    0.000000  \n",
       "50%       0.000000    0.000000  \n",
       "75%       1.000000    1.000000  \n",
       "max       8.000000    1.000000  "
      ]
     },
     "execution_count": 3,
     "metadata": {},
     "output_type": "execute_result"
    }
   ],
   "source": [
    "tt.info()\n",
    "tt.describe()"
   ]
  },
  {
   "cell_type": "markdown",
   "metadata": {
    "_uuid": "d4ec5200884536e261a9ac149866afefc69822fd"
   },
   "source": [
    "* Age: 263 missing values \n",
    "\n",
    "* Cabin: 1014 missing values \n",
    "\n",
    "* Embarked: 2 missing values\n",
    "* Fare: 1 missing values"
   ]
  },
  {
   "cell_type": "markdown",
   "metadata": {
    "_uuid": "0a773e45851a67caafb5c1ff1071e1c910986cb6"
   },
   "source": [
    "# Preprocessing"
   ]
  },
  {
   "cell_type": "code",
   "execution_count": 4,
   "metadata": {
    "_uuid": "820c1ccaeafa3741dde066c9a2f107b6fd6b1f01"
   },
   "outputs": [],
   "source": [
    "# def predictAge(tt):\n",
    "#     num_tt = tt[['Age','Fare', 'Parch', 'SibSp', 'Pclass']]\n",
    "#     haveAge = num_tt.loc[num_tt['Age'].notnull(),:].copy()\n",
    "#     dontHaveAge = num_tt.loc[num_tt['Age'].isnull(),:].copy()\n",
    "#     y = haveAge.iloc[:, 0]\n",
    "#     X = haveAge.iloc[:, 1:]\n",
    "#     rfr = RandomForestRegressor(random_state=1, n_estimators=2000, n_jobs=-1)\n",
    "#     rfr.fit(X, y)\n",
    "#     y_pred = rfr.predict(dontHaveAge.iloc[:, 1:])\n",
    "#     tt.loc[tt['Age'].isnull(), 'Age' ] = y_pred \n",
    "#     tt = tt\n",
    "#     return tt, rfr"
   ]
  },
  {
   "cell_type": "markdown",
   "metadata": {
    "_uuid": "a903a1a87cb09277f13edf659d507a7f862768e0"
   },
   "source": [
    "# Handling missing value"
   ]
  },
  {
   "cell_type": "code",
   "execution_count": 5,
   "metadata": {
    "_uuid": "9816de881a2317a55cd852c50e357e29967672b6"
   },
   "outputs": [],
   "source": [
    "tt['Fare'] = tt['Fare'].fillna(tt['Fare'].mean())\n",
    "tt['Embarked'] = tt['Embarked'].fillna(tt['Embarked'].mode()[0])\n",
    "tt['Cabin'] = tt['Cabin'].fillna('U') # U: unknown\n",
    "# tt, rfr = predictAge(tt) # Filling missing value Age by random forest regressor"
   ]
  },
  {
   "cell_type": "markdown",
   "metadata": {
    "_uuid": "a81678b343e9cc297d85ef8d81058906d830cc61"
   },
   "source": [
    "# Etract new features"
   ]
  },
  {
   "cell_type": "code",
   "execution_count": 6,
   "metadata": {
    "_uuid": "23ffd5228ecf730a0261ce3aa47287c509973ee4",
    "scrolled": false
   },
   "outputs": [],
   "source": [
    "tt['Deck'] = tt['Cabin'].apply(lambda x:x[0]) # Extract Deck by the first letter of Cabin\n",
    "tt['DeckKnown'] = tt['Deck'].apply(lambda x: 1 if x == 'U' else 0)\n",
    "\n",
    "tt['Title'] = tt['Name'].str.extract('([A-Za-z]+)\\.', expand=False) # Split name and extract titles as title group function\n",
    "\n",
    "## Impute Age by filling the median age of same title people. RF model didn't perform a better in predicting age\n",
    "medianAge = tt.groupby('Title')['Age'].median()\n",
    "ageDict = medianAge.to_dict()\n",
    "titles = medianAge.index.tolist()\n",
    "for title in titles:\n",
    "    fillAge = medianAge[title]\n",
    "    tt.loc[(tt['Age'].isnull()) & (tt['Title'] == title), 'Age'] = fillAge\n",
    "\n",
    "title = (tt['Title'].value_counts() < 10) # Set titles whose count is lower than 10 as \"Rare\"\n",
    "tt['Title'] = tt['Title'].apply(lambda x: 'Rare' if title.loc[x] == True else x)\n",
    "\n",
    "tt['FamilySize'] = tt['SibSp'] + tt['Parch'] + 1 # Summary the number of family members for each people\n",
    "tt['FamilySize'] = tt['FamilySize'].apply(lambda x: 'Single' if x == 1 else ('Normal' if 1<x<4 else 'Large')) # Category family size by 1, 1-3, over 3\n",
    "\n",
    "tt[\"AgeGroup\"]=pd.cut(tt[\"Age\"],range(0,90,15)) # Category Age by groups, especially for child group with age lower than 12\n",
    "\n",
    "tt['FareGroup'] = pd.qcut(tt['Fare'], 4) # Category Fare by quantile groups\n",
    "\n",
    "# tt.loc[tt['Age']<=16, 'Person'] ='child' # Category Age_Sex by child, man and woman\n",
    "# tt.loc[(tt['Age']>16) & (tt['Sex']=='female'), 'Person'] = 'adult_woman'\n",
    "# tt.loc[(tt['Age']>16) & (tt['Sex']=='male'), 'Person'] = 'adult_man'\n",
    "\n",
    "# Marked people with same surname\n",
    "# Since people in the same family tend to survive or die together\n",
    "tt['Surname'] = tt['Name'].apply(lambda x : x.split(',')[1].split('.')[1].strip())\n",
    "countMap= tt['Surname'].value_counts().to_dict()\n",
    "tt['Surname'] = tt['Surname'].map(countMap)\n",
    "tt.loc[tt['Surname'] > 1,'alone_NoSameSurname_members'] = 1\n",
    "tt.loc[tt['Surname'] == 1,'alone_NoSameSurname_members'] = 0 # alone\n",
    "\n",
    "# Marked people who has same ticket as ShareTicket condition\n",
    "# Since people who have same ticket knowing each others (friends, family and other relationships) tend to survive or die together\n",
    "ticketMap = tt['Ticket'].value_counts().to_dict()\n",
    "tt['TicketCount'] = tt['Ticket'].map(ticketMap)\n",
    "tt.loc[tt['TicketCount'] > 1,'ShareTicket'] = 1\n",
    "tt.loc[tt['TicketCount'] == 1,'ShareTicket'] = 0"
   ]
  },
  {
   "cell_type": "markdown",
   "metadata": {
    "_uuid": "44f603a03fe110d997325e5ffa37fa1d905cf950"
   },
   "source": [
    "# Visualization: Relastions between features and survival"
   ]
  },
  {
   "cell_type": "code",
   "execution_count": 7,
   "metadata": {
    "_uuid": "8c7d0317b0f857abd58e5f9b5601827f62c934b2",
    "scrolled": false
   },
   "outputs": [
    {
     "data": {
      "image/png": "[encoded data removed]",
      "text/plain": [
       "<Figure size 432x288 with 1 Axes>"
      ]
     },
     "metadata": {},
     "output_type": "display_data"
    },
    {
     "data": {
      "image/png": "[encoded data removed]",
      "text/plain": [
       "<Figure size 432x288 with 1 Axes>"
      ]
     },
     "metadata": {},
     "output_type": "display_data"
    },
    {
     "data": {
      "image/png": "[encoded data removed]",
      "text/plain": [
       "<Figure size 432x288 with 1 Axes>"
      ]
     },
     "metadata": {},
     "output_type": "display_data"
    },
    {
     "data": {
      "image/png": "[encoded data removed]",
      "text/plain": [
       "<Figure size 432x288 with 1 Axes>"
      ]
     },
     "metadata": {},
     "output_type": "display_data"
    },
    {
     "data": {
      "image/png": "[encoded data removed]",
      "text/plain": [
       "<Figure size 432x288 with 1 Axes>"
      ]
     },
     "metadata": {},
     "output_type": "display_data"
    },
    {
     "data": {
      "image/png": "[encoded data removed]",
      "text/plain": [
       "<Figure size 432x288 with 1 Axes>"
      ]
     },
     "metadata": {},
     "output_type": "display_data"
    },
    {
     "data": {
      "image/png": "[encoded data removed]",
      "text/plain": [
       "<Figure size 432x288 with 1 Axes>"
      ]
     },
     "metadata": {},
     "output_type": "display_data"
    },
    {
     "data": {
      "image/png": "[encoded data removed]",
      "text/plain": [
       "<Figure size 432x288 with 1 Axes>"
      ]
     },
     "metadata": {},
     "output_type": "display_data"
    },
    {
     "data": {
      "image/png": "[encoded data removed]",
      "text/plain": [
       "<Figure size 432x288 with 1 Axes>"
      ]
     },
     "metadata": {},
     "output_type": "display_data"
    },
    {
     "data": {
      "image/png": "[encoded data removed]",
      "text/plain": [
       "<Figure size 432x288 with 1 Axes>"
      ]
     },
     "metadata": {},
     "output_type": "display_data"
    }
   ],
   "source": [
    "features = [\"Sex\",\"Pclass\",\"DeckKnown\",\"Embarked\",\"ShareTicket\",\"Title\",\"alone_NoSameSurname_members\",\"FamilySize\",\"AgeGroup\",\"FareGroup\"]\n",
    "\n",
    "pltDict={}\n",
    "for f in features:\n",
    "    temp=tt.groupby([\"Survived\",f]).size()\n",
    "    pltDict[f]=pd.concat([temp[0],temp[1]],axis=1,sort=False).fillna(0)\n",
    "\n",
    "for f in features:\n",
    "    N = len(pltDict[f][0])\n",
    "    ind = np.arange(N)    # the x locations for the groups\n",
    "    width = 0.5       # the width of the bars: can also be len(x) sequence\n",
    "    survived_num = pltDict[f][1]\n",
    "    not_survived_num = pltDict[f][0]\n",
    "\n",
    "    plt.bar(ind, not_survived_num, width, label=\"Not survived\")\n",
    "    plt.bar(ind, survived_num, width, bottom = not_survived_num, label = \"Survived\")\n",
    "    plt.xticks(ind, pltDict[f].index.values, rotation = 60)\n",
    "    plt.ylabel(\"Number of people\")\n",
    "    plt.title(f)\n",
    "    plt.legend()\n",
    "    plt.show()"
   ]
  },
  {
   "cell_type": "markdown",
   "metadata": {
    "_uuid": "8e380ecdd910e0f9c31225080e2c0e246778efba"
   },
   "source": [
    "# One-hot encoding for categorical variable"
   ]
  },
  {
   "cell_type": "code",
   "execution_count": 8,
   "metadata": {
    "_uuid": "923dbd0388e56a37b70be3ce2534418cafa351a4"
   },
   "outputs": [],
   "source": [
    "dummies_Embarked = pd.get_dummies(tt['Embarked'], prefix= 'Embarked')\n",
    "dummies_Sex = pd.get_dummies(tt['Sex'], prefix= 'Sex')\n",
    "dummies_Title = pd.get_dummies(tt['Title'], prefix= 'Title')\n",
    "# dummies_Person = pd.get_dummies(tt['Person'], prefix= 'Person')\n",
    "dummies_FamilySize = pd.get_dummies(tt['FamilySize'], prefix= 'FamilySize')\n",
    "dummies_AgeGroup = pd.get_dummies(tt['AgeGroup'], prefix= 'AgeGroup')\n",
    "dummies_FareGroup = pd.get_dummies(tt['FareGroup'], prefix= 'FareGroup')\n",
    "\n",
    "PassengerId = tt.loc[891:,'PassengerId']\n",
    "tt = tt.drop(['Name','PassengerId','Surname','Age','Fare','Ticket','Cabin','Embarked','Sex','FareGroup','AgeGroup','SibSp','Parch','TicketCount','Deck','FamilySize','Title'],axis=1)"
   ]
  },
  {
   "cell_type": "code",
   "execution_count": 9,
   "metadata": {
    "_uuid": "7243e3623471bf0ccf9e6d70c38b9bcd13f3b9cc"
   },
   "outputs": [
    {
     "data": {
      "text/html": [
       "<div>\n",
       "<style scoped>\n",
       "    .dataframe tbody tr th:only-of-type {\n",
       "        vertical-align: middle;\n",
       "    }\n",
       "\n",
       "    .dataframe tbody tr th {\n",
       "        vertical-align: top;\n",
       "    }\n",
       "\n",
       "    .dataframe thead th {\n",
       "        text-align: right;\n",
       "    }\n",
       "</style>\n",
       "<table border=\"1\" class=\"dataframe\">\n",
       "  <thead>\n",
       "    <tr style=\"text-align: right;\">\n",
       "      <th></th>\n",
       "      <th>Pclass</th>\n",
       "      <th>Survived</th>\n",
       "      <th>DeckKnown</th>\n",
       "      <th>alone_NoSameSurname_members</th>\n",
       "      <th>ShareTicket</th>\n",
       "      <th>AgeGroup_(0, 15]</th>\n",
       "      <th>AgeGroup_(15, 30]</th>\n",
       "      <th>AgeGroup_(30, 45]</th>\n",
       "      <th>AgeGroup_(45, 60]</th>\n",
       "      <th>AgeGroup_(60, 75]</th>\n",
       "      <th>...</th>\n",
       "      <th>Sex_female</th>\n",
       "      <th>Sex_male</th>\n",
       "      <th>Title_Master</th>\n",
       "      <th>Title_Miss</th>\n",
       "      <th>Title_Mr</th>\n",
       "      <th>Title_Mrs</th>\n",
       "      <th>Title_Rare</th>\n",
       "      <th>FamilySize_Large</th>\n",
       "      <th>FamilySize_Normal</th>\n",
       "      <th>FamilySize_Single</th>\n",
       "    </tr>\n",
       "  </thead>\n",
       "  <tbody>\n",
       "    <tr>\n",
       "      <th>0</th>\n",
       "      <td>3</td>\n",
       "      <td>0.0</td>\n",
       "      <td>1</td>\n",
       "      <td>0.0</td>\n",
       "      <td>0.0</td>\n",
       "      <td>0</td>\n",
       "      <td>1</td>\n",
       "      <td>0</td>\n",
       "      <td>0</td>\n",
       "      <td>0</td>\n",
       "      <td>...</td>\n",
       "      <td>0</td>\n",
       "      <td>1</td>\n",
       "      <td>0</td>\n",
       "      <td>0</td>\n",
       "      <td>1</td>\n",
       "      <td>0</td>\n",
       "      <td>0</td>\n",
       "      <td>0</td>\n",
       "      <td>1</td>\n",
       "      <td>0</td>\n",
       "    </tr>\n",
       "    <tr>\n",
       "      <th>1</th>\n",
       "      <td>1</td>\n",
       "      <td>1.0</td>\n",
       "      <td>0</td>\n",
       "      <td>0.0</td>\n",
       "      <td>1.0</td>\n",
       "      <td>0</td>\n",
       "      <td>0</td>\n",
       "      <td>1</td>\n",
       "      <td>0</td>\n",
       "      <td>0</td>\n",
       "      <td>...</td>\n",
       "      <td>1</td>\n",
       "      <td>0</td>\n",
       "      <td>0</td>\n",
       "      <td>0</td>\n",
       "      <td>0</td>\n",
       "      <td>1</td>\n",
       "      <td>0</td>\n",
       "      <td>0</td>\n",
       "      <td>1</td>\n",
       "      <td>0</td>\n",
       "    </tr>\n",
       "    <tr>\n",
       "      <th>2</th>\n",
       "      <td>3</td>\n",
       "      <td>1.0</td>\n",
       "      <td>1</td>\n",
       "      <td>0.0</td>\n",
       "      <td>0.0</td>\n",
       "      <td>0</td>\n",
       "      <td>1</td>\n",
       "      <td>0</td>\n",
       "      <td>0</td>\n",
       "      <td>0</td>\n",
       "      <td>...</td>\n",
       "      <td>1</td>\n",
       "      <td>0</td>\n",
       "      <td>0</td>\n",
       "      <td>1</td>\n",
       "      <td>0</td>\n",
       "      <td>0</td>\n",
       "      <td>0</td>\n",
       "      <td>0</td>\n",
       "      <td>0</td>\n",
       "      <td>1</td>\n",
       "    </tr>\n",
       "    <tr>\n",
       "      <th>3</th>\n",
       "      <td>1</td>\n",
       "      <td>1.0</td>\n",
       "      <td>0</td>\n",
       "      <td>0.0</td>\n",
       "      <td>1.0</td>\n",
       "      <td>0</td>\n",
       "      <td>0</td>\n",
       "      <td>1</td>\n",
       "      <td>0</td>\n",
       "      <td>0</td>\n",
       "      <td>...</td>\n",
       "      <td>1</td>\n",
       "      <td>0</td>\n",
       "      <td>0</td>\n",
       "      <td>0</td>\n",
       "      <td>0</td>\n",
       "      <td>1</td>\n",
       "      <td>0</td>\n",
       "      <td>0</td>\n",
       "      <td>1</td>\n",
       "      <td>0</td>\n",
       "    </tr>\n",
       "    <tr>\n",
       "      <th>4</th>\n",
       "      <td>3</td>\n",
       "      <td>0.0</td>\n",
       "      <td>1</td>\n",
       "      <td>1.0</td>\n",
       "      <td>0.0</td>\n",
       "      <td>0</td>\n",
       "      <td>0</td>\n",
       "      <td>1</td>\n",
       "      <td>0</td>\n",
       "      <td>0</td>\n",
       "      <td>...</td>\n",
       "      <td>0</td>\n",
       "      <td>1</td>\n",
       "      <td>0</td>\n",
       "      <td>0</td>\n",
       "      <td>1</td>\n",
       "      <td>0</td>\n",
       "      <td>0</td>\n",
       "      <td>0</td>\n",
       "      <td>0</td>\n",
       "      <td>1</td>\n",
       "    </tr>\n",
       "  </tbody>\n",
       "</table>\n",
       "<p>5 rows × 27 columns</p>\n",
       "</div>"
      ],
      "text/plain": [
       "   Pclass  Survived  DeckKnown  alone_NoSameSurname_members  ShareTicket  \\\n",
       "0       3       0.0          1                          0.0          0.0   \n",
       "1       1       1.0          0                          0.0          1.0   \n",
       "2       3       1.0          1                          0.0          0.0   \n",
       "3       1       1.0          0                          0.0          1.0   \n",
       "4       3       0.0          1                          1.0          0.0   \n",
       "\n",
       "   AgeGroup_(0, 15]  AgeGroup_(15, 30]  AgeGroup_(30, 45]  AgeGroup_(45, 60]  \\\n",
       "0                 0                  1                  0                  0   \n",
       "1                 0                  0                  1                  0   \n",
       "2                 0                  1                  0                  0   \n",
       "3                 0                  0                  1                  0   \n",
       "4                 0                  0                  1                  0   \n",
       "\n",
       "   AgeGroup_(60, 75]        ...          Sex_female  Sex_male  Title_Master  \\\n",
       "0                  0        ...                   0         1             0   \n",
       "1                  0        ...                   1         0             0   \n",
       "2                  0        ...                   1         0             0   \n",
       "3                  0        ...                   1         0             0   \n",
       "4                  0        ...                   0         1             0   \n",
       "\n",
       "   Title_Miss  Title_Mr  Title_Mrs  Title_Rare  FamilySize_Large  \\\n",
       "0           0         1          0           0                 0   \n",
       "1           0         0          1           0                 0   \n",
       "2           1         0          0           0                 0   \n",
       "3           0         0          1           0                 0   \n",
       "4           0         1          0           0                 0   \n",
       "\n",
       "   FamilySize_Normal  FamilySize_Single  \n",
       "0                  1                  0  \n",
       "1                  1                  0  \n",
       "2                  0                  1  \n",
       "3                  1                  0  \n",
       "4                  0                  1  \n",
       "\n",
       "[5 rows x 27 columns]"
      ]
     },
     "execution_count": 9,
     "metadata": {},
     "output_type": "execute_result"
    }
   ],
   "source": [
    "tt = pd.concat([tt, dummies_AgeGroup, dummies_FareGroup, dummies_Embarked, dummies_Sex, dummies_Title, dummies_FamilySize],axis=1)\n",
    "tt.head()"
   ]
  },
  {
   "cell_type": "markdown",
   "metadata": {
    "_uuid": "a510e8cd865a32dd3eff9566d23fa963c057aaec",
    "collapsed": true
   },
   "source": [
    "# Base Modeling & Evaluation"
   ]
  },
  {
   "cell_type": "code",
   "execution_count": 10,
   "metadata": {
    "_uuid": "3165c49bf4276bf07bff55d94f1d6799afec4131"
   },
   "outputs": [],
   "source": [
    "# Drop Survived to split series easily \n",
    "survived = tt['Survived']\n",
    "tt = tt.drop(['Survived'], axis = 1)\n",
    "# Normalization\n",
    "tt = tt.apply(lambda x: (x - np.mean(x)) / (np.max(x) - np.min(x))) \n",
    "tt['Survived'] = survived"
   ]
  },
  {
   "cell_type": "code",
   "execution_count": 11,
   "metadata": {
    "_uuid": "ad4bac5c4bb6a49934991fd28e9beffba8488ae1"
   },
   "outputs": [],
   "source": [
    "# Split X_train, X_test, y_train\n",
    "x_train = tt.iloc[0:891, :-1]\n",
    "y_train = tt.iloc[0:891, -1]\n",
    "x_test = tt.iloc[891: , :-1]"
   ]
  },
  {
   "cell_type": "markdown",
   "metadata": {
    "_uuid": "33fcb9520c75635241ad20b4e0dc22cb7ff91b78",
    "collapsed": true
   },
   "source": [
    "## Model comparison: Logistic Regression, SVM, Naive Bayes, Decision Tree, Random Forest"
   ]
  },
  {
   "cell_type": "code",
   "execution_count": 12,
   "metadata": {
    "_uuid": "610611a48c7d0edf41cb83474d23067605de5a05"
   },
   "outputs": [],
   "source": [
    "# # Logistic Regression\n",
    "# lg = LogisticRegression()\n",
    "# lg.fit(x_train, y_train.values.ravel())\n",
    "# y_pred = lg.predict(x_test)\n",
    "# lg = lg.score(x_train, y_train)\n",
    "\n",
    "# # Support Vector Machines\n",
    "# svc = SVC(gamma = 'auto')\n",
    "# svc.fit(x_train, y_train.values.ravel())\n",
    "# y_pred = svc.predict(x_test)\n",
    "# svc = svc.score(x_train, y_train)\n",
    "\n",
    "# # Gaussian Naive Bayes\n",
    "# gaussian = GaussianNB()\n",
    "# gaussian.fit(x_train, y_train.values.ravel())\n",
    "# y_pred = gaussian.predict(x_test)\n",
    "# gaussian = gaussian.score(x_train, y_train)\n",
    "\n",
    "# # Decision Tree\n",
    "# decision_tree = DecisionTreeClassifier()\n",
    "# decision_tree.fit(x_train, y_train.values.ravel())\n",
    "# y_pred = decision_tree.predict(x_test)\n",
    "# dt = decision_tree.score(x_train, y_train)\n",
    "\n",
    "# # Random Forest\n",
    "# random_forest = RandomForestClassifier(n_estimators=100)\n",
    "# random_forest.fit(x_train, y_train.values.ravel())\n",
    "# y_sub = random_forest.predict(x_test)\n",
    "# rf = random_forest.score(x_train, y_train)\n",
    "\n",
    "# # Model comparison\n",
    "# models = pd.DataFrame({\n",
    "#     'Model': ['Support Vector Machines', 'Logistic Regression', 'Random Forest', 'Naive Bayes', 'Decision Tree'],\n",
    "#     'Score': [svc, lg, rf, gaussian, dt]})\n",
    "# models.sort_values(by='Score', ascending=False)"
   ]
  },
  {
   "cell_type": "code",
   "execution_count": 13,
   "metadata": {
    "_uuid": "1ff6aa442f15982f0bdd4db1a0893c03760f37fd"
   },
   "outputs": [],
   "source": [
    "# svc = SVC() # rbf kernel\n",
    "# parameter_grid = {\n",
    "#                  'C': [0.001,0.01,0.1,1,10],\n",
    "#                  'gamma': [0.1,0.01,0.001],\n",
    "#                  }\n",
    "# cross_validation = StratifiedKFold(n_splits=5)\n",
    "# grid_search = GridSearchCV(svc,\n",
    "#                            param_grid=parameter_grid,\n",
    "#                            cv=cross_validation,\n",
    "#                            iid=True)\n",
    "# grid_search.fit(x_train, y_train)\n",
    "# print('Best score: {}'.format(grid_search.best_score_))\n",
    "# print('Best parameters: {}'.format(grid_search.best_params_))"
   ]
  },
  {
   "cell_type": "code",
   "execution_count": 14,
   "metadata": {
    "_uuid": "9d83c7029ba8ca92ef5da9c3f7103db9cab486ca"
   },
   "outputs": [],
   "source": [
    "# rf = RandomForestClassifier(max_features='sqrt')\n",
    "# parameter_grid = {\n",
    "#                  'max_depth' : [4,5,6,7,8],\n",
    "#                  'n_estimators': [100,150,200,250,400],\n",
    "#                  'criterion': ['gini','entropy'],\n",
    "#                  }\n",
    "# cross_validation = StratifiedKFold(n_splits=5)\n",
    "# grid_search = GridSearchCV(rf,\n",
    "#                            param_grid=parameter_grid,\n",
    "#                            cv=cross_validation,\n",
    "#                            iid=True)\n",
    "# grid_search.fit(x_train, y_train)\n",
    "# print('Best score: {}'.format(grid_search.best_score_))\n",
    "# print('Best parameters: {}'.format(grid_search.best_params_))"
   ]
  },
  {
   "cell_type": "code",
   "execution_count": 15,
   "metadata": {
    "_uuid": "463f9a5aaae331728e9edd2563e063dfbe8f3b13"
   },
   "outputs": [],
   "source": [
    "# gbdt = GradientBoostingClassifier(n_estimators=200, learning_rate = 0.1)\n",
    "# parameter_grid = {\n",
    "#                  'n_estimators': [100,150,200,300],\n",
    "#                  'learning_rate': [0.01, 0.1, 1],\n",
    "#                  'subsample': [0.6, 0.7, 0.8],\n",
    "#                  'max_depth' : [4,5,6,7,8],\n",
    "#                  }\n",
    "# cross_validation = StratifiedKFold(n_splits=5)\n",
    "# grid_search = GridSearchCV(gbdt,\n",
    "#                            param_grid=parameter_grid,\n",
    "#                            cv=cross_validation,\n",
    "#                            iid=True)\n",
    "# grid_search.fit(x_train, y_train)\n",
    "# print('Best score: {}'.format(grid_search.best_score_))\n",
    "# print('Best parameters: {}'.format(grid_search.best_params_))\n",
    "\n",
    "# # Best score: 0.8372615039281706\n",
    "# # Best parameters: {'learning_rate': 0.01, 'max_depth': 5, 'n_estimators': 300, 'subsample': 0.6}"
   ]
  },
  {
   "cell_type": "code",
   "execution_count": 16,
   "metadata": {
    "_uuid": "a51baf147476d787b288279d0ebc567b9833fe3b"
   },
   "outputs": [],
   "source": [
    "rf = RandomForestClassifier(n_estimators=150, max_depth=7, criterion='gini')\n",
    "rf.fit(x_train, y_train)\n",
    "y_sub = rf.predict(x_test)\n",
    "\n",
    "# Ensemble GBDT by voting make model worse! should ensemble other models in other ways(bagging/boosting/voting)\n",
    "\n",
    "# gbdt = GradientBoostingClassifier(n_estimators=300, learning_rate=0.01, subsample=0.6, max_depth=5)\n",
    "# voting = VotingClassifier(estimators=[('rf', rf), ('gbdt', gbdt)], voting='soft')\n",
    "# voting.fit(x_train, y_train)\n",
    "# y_sub = voting.predict(x_test)"
   ]
  },
  {
   "cell_type": "code",
   "execution_count": 17,
   "metadata": {
    "_uuid": "94c8c52479eabd2ad553939b5a4f3ffb9530ac44"
   },
   "outputs": [],
   "source": [
    "# Submission\n",
    "# submission = pd.DataFrame({\n",
    "#         \"PassengerId\": PassengerId,\n",
    "#         \"Survived\": y_sub.astype(int)\n",
    "#     })\n",
    "# submission.to_csv('submission.csv', index=False)"
   ]
  },
  {
   "cell_type": "code",
   "execution_count": null,
   "metadata": {
    "_uuid": "0530594c7589b598074dcebb5dbb35db2c501514"
   },
   "outputs": [],
   "source": []
  },
  {
   "cell_type": "code",
   "execution_count": null,
   "metadata": {
    "_uuid": "bde1ec017d3cc3201724e138995292b936d72185"
   },
   "outputs": [],
   "source": []
  }
 ],
 "metadata": {
  "kernelspec": {
   "display_name": "Python 3",
   "language": "python",
   "name": "python3"
  },
  "language_info": {
   "codemirror_mode": {
    "name": "ipython",
    "version": 3
   },
   "file_extension": ".py",
   "mimetype": "text/x-python",
   "name": "python",
   "nbconvert_exporter": "python",
   "pygments_lexer": "ipython3",
   "version": "3.6.5"
  }
 },
 "nbformat": 4,
 "nbformat_minor": 1
}
